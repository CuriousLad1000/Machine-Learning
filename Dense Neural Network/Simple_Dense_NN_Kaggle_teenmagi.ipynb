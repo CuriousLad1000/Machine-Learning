{
 "cells": [
  {
   "cell_type": "markdown",
   "metadata": {},
   "source": [
    "<b>Basic Dense Neural NW on trimagi dataset for Kaggle competition</b>\n",
    "\n",
    "In this code was created as a simple test on how to form a dense Neural network. The dataset used was from Kaggle competition called Teenmagi-2022. **1.3 million images and 1000 classes.** The network is not efficient but used as a means to study different techniques.\n",
    "\n",
    "**Note**: The dataset is loaded processed in earlier codes.\n",
    "\n",
    "[Kaggle Teenmagi-2022](https://www.kaggle.com/competitions/teenmagi-2022)"
   ]
  },
  {
   "cell_type": "code",
   "execution_count": 14,
   "metadata": {
    "execution": {
     "iopub.execute_input": "2022-07-19T11:04:47.555629Z",
     "iopub.status.busy": "2022-07-19T11:04:47.555375Z",
     "iopub.status.idle": "2022-07-19T11:04:47.561576Z",
     "shell.execute_reply": "2022-07-19T11:04:47.560805Z",
     "shell.execute_reply.started": "2022-07-19T11:04:47.555595Z"
    }
   },
   "outputs": [
    {
     "name": "stdout",
     "output_type": "stream",
     "text": [
      "Libraries Loaded\n"
     ]
    }
   ],
   "source": [
    "#### Basic Dense Neural NW on trimagi dataset for Kaggle competition\n",
    "\n",
    "import numpy as np\n",
    "import matplotlib.pyplot as plt\n",
    "from sklearn.model_selection import train_test_split\n",
    "import pandas as pd\n",
    "from numpy import load\n",
    "import gc\n",
    "\n",
    "#========== Neural NW\n",
    "import tensorflow as tf\n",
    "\n",
    "from tensorflow import keras\n",
    "from tensorflow.keras.models import Sequential\n",
    "\n",
    "\n",
    "print(\"Libraries Loaded\")"
   ]
  },
  {
   "cell_type": "code",
   "execution_count": 15,
   "metadata": {
    "execution": {
     "iopub.execute_input": "2022-07-19T11:04:49.735898Z",
     "iopub.status.busy": "2022-07-19T11:04:49.735150Z",
     "iopub.status.idle": "2022-07-19T11:04:50.577943Z",
     "shell.execute_reply": "2022-07-19T11:04:50.577298Z",
     "shell.execute_reply.started": "2022-07-19T11:04:49.735849Z"
    }
   },
   "outputs": [
    {
     "name": "stdout",
     "output_type": "stream",
     "text": [
      "Training Dataset's Dimensions: (100000, 8, 8) class Dim:  (100000,)\n",
      "Test Dataset's Dimensions: (100000, 8, 8) class Dim:  (100000,)\n",
      "Validation Dataset's Dimensions: (48238, 8, 8)\n",
      "\n",
      "Test Dataset's Dimensions: (50000, 8, 8) class Dim:  (50000,)\n"
     ]
    },
    {
     "data": {
      "text/plain": [
       "20379"
      ]
     },
     "execution_count": 15,
     "metadata": {},
     "output_type": "execute_result"
    }
   ],
   "source": [
    "# load dict of arrays\n",
    "dict_Batch1_X = load('../input/processed-batches/Batch1_X.npz')\n",
    "dict_Batch1_Y = load('../input/processed-batches/Batch1_Y.npz')\n",
    "\n",
    "dict_Batch10_X = load('../input/processed-batches/Batch10_X.npz')\n",
    "dict_Batch10_Y = load('../input/processed-batches/Batch10_Y.npz')\n",
    "\n",
    "dict_Validation = load('../input/processed-total-dataset/Processed_Val.npz')\n",
    "\n",
    "# extract the first array\n",
    "X = dict_Batch1_X['arr_0']\n",
    "Y = dict_Batch1_Y['arr_0']\n",
    "\n",
    "X_TEST = dict_Batch10_X['arr_0']\n",
    "Y_TEST = dict_Batch10_Y['arr_0']\n",
    "\n",
    "Val = dict_Validation['arr_0']\n",
    "\n",
    "#Keep single channel only\n",
    "X = X[:,:,:,0]\n",
    "X_TEST = X_TEST[:,:,:,0]\n",
    "Val = Val[:,:,:,0]\n",
    "\n",
    "#Scale Validation data between 0 and 1, Others were already scaled.\n",
    "Val = (Val - np.min(Val)) / (np.max(Val) - np.min(Val)).astype(np.float32)\n",
    "\n",
    "#full_X = dict_X['arr_0']\n",
    "# print the array\n",
    "print(\"Training Dataset's Dimensions:\" ,X.shape,\"class Dim: \", Y.shape)\n",
    "print(\"Test Dataset's Dimensions:\" ,X_TEST.shape,\"class Dim: \", Y_TEST.shape)\n",
    "print(\"Validation Dataset's Dimensions:\" ,Val.shape)\n",
    "print()\n",
    "\n",
    "#print(\"full_X Training Dataset's Dimensions:\" ,full_X.shape)\n",
    "\n",
    "del dict_Batch1_X\n",
    "del dict_Batch1_Y\n",
    "del dict_Batch10_X\n",
    "del dict_Batch10_Y\n",
    "del dict_Validation\n",
    "\n",
    "#Split Test images to Validation and Test\n",
    "X_Tst, X_Val, Y_Tst, Y_Val = train_test_split(X_TEST, Y_TEST, test_size=0.5, random_state=0, stratify=Y_TEST)\n",
    "print(\"Test Dataset's Dimensions:\" ,X_Val.shape,\"class Dim: \", Y_Val.shape)\n",
    "\n",
    "\n",
    "Y_Val=tf.one_hot(Y_Val, 1000)\n",
    "Y_Tst=tf.one_hot(Y_Tst, 1000)\n",
    "Y=tf.one_hot(Y, 1000)\n",
    "\n",
    "\n",
    "gc.collect()"
   ]
  },
  {
   "cell_type": "markdown",
   "metadata": {},
   "source": [
    "**Create a Dense Sequential model**"
   ]
  },
  {
   "cell_type": "code",
   "execution_count": 18,
   "metadata": {
    "execution": {
     "iopub.execute_input": "2022-07-19T11:06:29.026389Z",
     "iopub.status.busy": "2022-07-19T11:06:29.025667Z",
     "iopub.status.idle": "2022-07-19T11:06:29.075942Z",
     "shell.execute_reply": "2022-07-19T11:06:29.074534Z",
     "shell.execute_reply.started": "2022-07-19T11:06:29.026350Z"
    }
   },
   "outputs": [
    {
     "name": "stdout",
     "output_type": "stream",
     "text": [
      "Model: \"sequential_8\"\n",
      "_________________________________________________________________\n",
      "Layer (type)                 Output Shape              Param #   \n",
      "=================================================================\n",
      "flatten_8 (Flatten)          (None, 64)                0         \n",
      "_________________________________________________________________\n",
      "dense_32 (Dense)             (None, 1000)              65000     \n",
      "_________________________________________________________________\n",
      "dense_33 (Dense)             (None, 250)               250250    \n",
      "_________________________________________________________________\n",
      "dense_34 (Dense)             (None, 100)               25100     \n",
      "_________________________________________________________________\n",
      "dense_35 (Dense)             (None, 1000)              101000    \n",
      "=================================================================\n",
      "Total params: 441,350\n",
      "Trainable params: 441,350\n",
      "Non-trainable params: 0\n",
      "_________________________________________________________________\n"
     ]
    }
   ],
   "source": [
    "model = Sequential()\n",
    "\n",
    "model.add(keras.layers.Flatten(input_shape=(8,8)))  # Flatten input image to a vector\n",
    "\n",
    "\n",
    "# Add a full connected layers\n",
    "model.add(keras.layers.Dense(1000, activation='relu'))\n",
    "model.add(keras.layers.Dense(250, activation='relu'))\n",
    "model.add(keras.layers.Dense(100, activation='relu'))\n",
    "\n",
    "model.add(keras.layers.Dense(1000, activation='softmax')) # Output layer\n",
    "\n",
    "#model.add(keras.layers.Dense(1000,activation='sigmoid'))\n",
    "\n",
    "#tf.keras.optimizers.SGD(learning_rate=0.01) # Learning rate #FOR GPU KERNEL\n",
    "\n",
    "#loss_fn=tf.keras.losses.SparseCategoricalCrossentropy(from_logits=False, reduction=\"auto\", name=\"sparse_categorical_crossentropy\")\n",
    "loss_fn=tf.keras.losses.CategoricalCrossentropy(\n",
    "    from_logits=False,\n",
    "    label_smoothing=0.0,\n",
    "    axis=-1,\n",
    "    reduction=\"auto\",\n",
    "    name=\"categorical_crossentropy\")\n",
    "\n",
    "tf.keras.optimizers.Adam(learning_rate=0.05, beta_1=0.9, beta_2=0.999,epsilon=1e-07, amsgrad=False, name='Adam')  #Adam Optimiser\n",
    "\n",
    "#model.compile(loss='categorical_crossentropy',metrics=['accuracy'])\n",
    "model.compile(loss=loss_fn, metrics=['accuracy'])\n",
    "\n",
    "#model.compile(loss='categorical_crossentropy', optimizer='sgd', metrics=['accuracy'])\n",
    "#model.compile(optimizer='sgd', loss='mean_squared_logarithmic_error', metrics=['accuracy'])\n",
    "model.summary()"
   ]
  },
  {
   "cell_type": "markdown",
   "metadata": {},
   "source": [
    "**Train the model and plot accuracy**"
   ]
  },
  {
   "cell_type": "code",
   "execution_count": 19,
   "metadata": {
    "execution": {
     "iopub.execute_input": "2022-07-19T11:06:31.617005Z",
     "iopub.status.busy": "2022-07-19T11:06:31.616460Z",
     "iopub.status.idle": "2022-07-19T11:08:59.576456Z",
     "shell.execute_reply": "2022-07-19T11:08:59.574212Z",
     "shell.execute_reply.started": "2022-07-19T11:06:31.616962Z"
    }
   },
   "outputs": [
    {
     "name": "stdout",
     "output_type": "stream",
     "text": [
      "Epoch 1/20\n",
      "2000/2000 [==============================] - 8s 4ms/step - loss: 6.8489 - accuracy: 0.0023 - val_loss: 6.7652 - val_accuracy: 0.0038\n",
      "Epoch 2/20\n",
      "2000/2000 [==============================] - 7s 4ms/step - loss: 6.7240 - accuracy: 0.0044 - val_loss: 6.6880 - val_accuracy: 0.0059\n",
      "Epoch 3/20\n",
      "2000/2000 [==============================] - 6s 3ms/step - loss: 6.6383 - accuracy: 0.0065 - val_loss: 6.6697 - val_accuracy: 0.0064\n",
      "Epoch 4/20\n",
      "2000/2000 [==============================] - 6s 3ms/step - loss: 6.5629 - accuracy: 0.0082 - val_loss: 6.5779 - val_accuracy: 0.0080\n",
      "Epoch 5/20\n",
      "2000/2000 [==============================] - 7s 3ms/step - loss: 6.5060 - accuracy: 0.0102 - val_loss: 6.5624 - val_accuracy: 0.0094\n",
      "Epoch 6/20\n",
      "2000/2000 [==============================] - 6s 3ms/step - loss: 6.4661 - accuracy: 0.0113 - val_loss: 6.5354 - val_accuracy: 0.0106\n",
      "Epoch 7/20\n",
      "2000/2000 [==============================] - 7s 4ms/step - loss: 6.4356 - accuracy: 0.0131 - val_loss: 6.5391 - val_accuracy: 0.0115\n",
      "Epoch 8/20\n",
      "2000/2000 [==============================] - 6s 3ms/step - loss: 6.4083 - accuracy: 0.0137 - val_loss: 6.5259 - val_accuracy: 0.0113\n",
      "Epoch 9/20\n",
      "2000/2000 [==============================] - 6s 3ms/step - loss: 6.3857 - accuracy: 0.0145 - val_loss: 6.5314 - val_accuracy: 0.0113\n",
      "Epoch 10/20\n",
      "2000/2000 [==============================] - 6s 3ms/step - loss: 6.3672 - accuracy: 0.0157 - val_loss: 6.5322 - val_accuracy: 0.0124\n",
      "Epoch 11/20\n",
      "2000/2000 [==============================] - 7s 4ms/step - loss: 6.3519 - accuracy: 0.0161 - val_loss: 6.5731 - val_accuracy: 0.0120\n",
      "Epoch 12/20\n",
      "2000/2000 [==============================] - 7s 4ms/step - loss: 6.3414 - accuracy: 0.0167 - val_loss: 6.5285 - val_accuracy: 0.0125\n",
      "Epoch 13/20\n",
      "2000/2000 [==============================] - 6s 3ms/step - loss: 6.3292 - accuracy: 0.0169 - val_loss: 6.5528 - val_accuracy: 0.0126\n",
      "Epoch 14/20\n",
      "2000/2000 [==============================] - 7s 4ms/step - loss: 6.3261 - accuracy: 0.0170 - val_loss: 6.6267 - val_accuracy: 0.0115\n",
      "Epoch 15/20\n",
      "2000/2000 [==============================] - 7s 4ms/step - loss: 6.3243 - accuracy: 0.0170 - val_loss: 6.5715 - val_accuracy: 0.0133\n",
      "Epoch 16/20\n",
      "2000/2000 [==============================] - 7s 4ms/step - loss: 6.3238 - accuracy: 0.0178 - val_loss: 6.5747 - val_accuracy: 0.0124\n",
      "Epoch 17/20\n",
      "2000/2000 [==============================] - 7s 4ms/step - loss: 6.3230 - accuracy: 0.0181 - val_loss: 6.6172 - val_accuracy: 0.0121\n",
      "Epoch 18/20\n",
      "2000/2000 [==============================] - 7s 3ms/step - loss: 6.3317 - accuracy: 0.0173 - val_loss: 6.6192 - val_accuracy: 0.0110\n",
      "Epoch 19/20\n",
      "2000/2000 [==============================] - 6s 3ms/step - loss: 6.3414 - accuracy: 0.0176 - val_loss: 6.6243 - val_accuracy: 0.0108\n",
      "Epoch 20/20\n",
      "2000/2000 [==============================] - 6s 3ms/step - loss: 6.3538 - accuracy: 0.0171 - val_loss: 6.6436 - val_accuracy: 0.0122\n",
      "1563/1563 [==============================] - 4s 3ms/step - loss: 6.6402 - accuracy: 0.0120\n",
      "Accuracy of Test data is: 1.1959999799728394 %\n"
     ]
    },
    {
     "data": {
      "image/png": "[encoded data removed]",
      "text/plain": [
       "<Figure size 1152x288 with 2 Axes>"
      ]
     },
     "metadata": {
      "needs_background": "light"
     },
     "output_type": "display_data"
    }
   ],
   "source": [
    "#TRAIN THE MODEL\n",
    "tr_hist = model.fit(X, Y, batch_size=50, epochs=20, verbose=1, validation_data=(X_Val, Y_Val))\n",
    "\n",
    "\n",
    "acc = model.evaluate(X_Tst, Y_Tst, verbose=1)    #Test Data Accuracy\n",
    "print(f'Accuracy of Test data is: {acc[1]*100} %')\n",
    "\n",
    "#Plot graphs\n",
    "plt.figure(figsize=(16,4))  \n",
    "plt.subplot(1, 2, 1)\n",
    "\n",
    "plt.plot(tr_hist.history['loss'],label=\"Train loss\")\n",
    "plt.plot(tr_hist.history['val_loss'],label=\"Validation loss\", linestyle='-')\n",
    "plt.title('LOSS')\n",
    "plt.ylabel('Loss')\n",
    "plt.xlabel('epochs')\n",
    "plt.legend(loc='upper right')\n",
    "\n",
    "plt.subplot(1, 2, 2)\n",
    "plt.plot(tr_hist.history['accuracy'],label=\"Train accuracy\")\n",
    "plt.plot(tr_hist.history['val_accuracy'],label=\"Validation accuracy\", linestyle='-')\n",
    "plt.title('ACCURACY')\n",
    "plt.ylabel('Accuracy')\n",
    "plt.xlabel('epochs')\n",
    "plt.legend(loc='lower right')\n",
    "plt.show()"
   ]
  },
  {
   "cell_type": "markdown",
   "metadata": {},
   "source": [
    "**EXPORT**"
   ]
  },
  {
   "cell_type": "code",
   "execution_count": 20,
   "metadata": {
    "execution": {
     "iopub.execute_input": "2022-07-19T11:09:39.414333Z",
     "iopub.status.busy": "2022-07-19T11:09:39.414080Z",
     "iopub.status.idle": "2022-07-19T11:09:40.957706Z",
     "shell.execute_reply": "2022-07-19T11:09:40.956991Z",
     "shell.execute_reply.started": "2022-07-19T11:09:39.414305Z"
    }
   },
   "outputs": [
    {
     "name": "stdout",
     "output_type": "stream",
     "text": [
      "<U4\n",
      "(48238,)\n",
      "['553' '523' '523' ... '523' '983' '523']\n"
     ]
    }
   ],
   "source": [
    "BA = model.predict(Val)\n",
    "BATCH = np.argmax(BA, axis=1)\n",
    "\n",
    "BATCH=BATCH.astype('int').astype('<U4')\n",
    "print(BATCH.dtype)\n",
    "print(BATCH.shape)\n",
    "print(BATCH)"
   ]
  },
  {
   "cell_type": "code",
   "execution_count": 21,
   "metadata": {
    "execution": {
     "iopub.execute_input": "2022-07-19T11:09:43.204187Z",
     "iopub.status.busy": "2022-07-19T11:09:43.203658Z",
     "iopub.status.idle": "2022-07-19T11:09:43.363420Z",
     "shell.execute_reply": "2022-07-19T11:09:43.362555Z",
     "shell.execute_reply.started": "2022-07-19T11:09:43.204149Z"
    }
   },
   "outputs": [
    {
     "name": "stdout",
     "output_type": "stream",
     "text": [
      "(48238,)\n"
     ]
    }
   ],
   "source": [
    "#Save to CSV\n",
    "\n",
    "ind = np.arange(1,Val.shape[0]+1, dtype = np.int32)\n",
    "print(ind.shape)\n",
    "\n",
    "predictions = pd.DataFrame(BATCH)\n",
    "\n",
    "column_names = [\"Id\", \"Class\"]\n",
    "combine_DF=pd.DataFrame(columns = column_names)\n",
    "\n",
    "combine_DF['Id']=ind\n",
    "combine_DF['Class']=BATCH\n",
    "\n",
    "compression_opts = dict(method='zip',archive_name='OSAMA_DNN.csv')\n",
    "combine_DF.to_csv('./OSAMA_DNN_tst1_GPU.zip', index=False,compression=compression_opts)\n",
    "\n",
    "#combine_DF.to_csv('data1.csv', index = False)            # Export pandas DataFrames to CSV\n",
    "#combine_DF.to_csv('data2.csv', index = False)"
   ]
  }
 ],
 "metadata": {
  "kernelspec": {
   "display_name": "Python 3 (ipykernel)",
   "language": "python",
   "name": "python3"
  },
  "language_info": {
   "codemirror_mode": {
    "name": "ipython",
    "version": 3
   },
   "file_extension": ".py",
   "mimetype": "text/x-python",
   "name": "python",
   "nbconvert_exporter": "python",
   "pygments_lexer": "ipython3",
   "version": "3.8.11"
  }
 },
 "nbformat": 4,
 "nbformat_minor": 4
}
