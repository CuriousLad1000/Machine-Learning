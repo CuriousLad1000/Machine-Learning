{
 "cells": [
  {
   "cell_type": "markdown",
   "id": "6ff04a30",
   "metadata": {},
   "source": [
    "### Simple Dense Neural network model to classify Traffic signs.\n",
    "\n",
    "In this code, we implement Dense neural network model to classify the traffic signs."
   ]
  },
  {
   "cell_type": "code",
   "execution_count": 8,
   "id": "b01d3558",
   "metadata": {},
   "outputs": [
    {
     "name": "stdout",
     "output_type": "stream",
     "text": [
      "Total Images:  660\n",
      "Training Data:\n",
      "(475, 64, 64, 3)\n",
      "(475,)\n",
      "\n",
      "Validation Data:\n",
      "(53, 64, 64, 3)\n",
      "(53,)\n",
      "\n",
      "Test Data:\n",
      "(132, 64, 64, 3)\n",
      "(132,)\n",
      "\n"
     ]
    }
   ],
   "source": [
    "import matplotlib.pyplot as plt\n",
    "import numpy as np\n",
    "import cv2\n",
    "import pathlib\n",
    "import tensorflow as tf\n",
    "\n",
    "from tensorflow import keras\n",
    "from tensorflow.keras.models import Sequential\n",
    "from sklearn.model_selection import train_test_split\n",
    "from sklearn.metrics import classification_report\n",
    "\n",
    "data_dir = pathlib.Path('GTSRB_subset_2')  #Folder path containing data (download from datasets folder)\n",
    "\n",
    "#print(list(data_dir.glob('*/*.jpg'))[:5])\n",
    "\n",
    "\n",
    "image_count = len(list(data_dir.glob('*/*.jpg')))  ##Calcuate total images\n",
    "print(\"Total Images: \",image_count)\n",
    "\n",
    "# Since data is images separated in different folders, we can label them and create a dictionary \n",
    "#to hold labels mapped to file paths. \n",
    "\n",
    "Signs_images_dict = {\n",
    "    'Snow': list(data_dir.glob('class1/*')),\n",
    "    'Speed20': list(data_dir.glob('class2/*'))\n",
    "}\n",
    "\n",
    "#Dictionary to map labels to class numbers.\n",
    "\n",
    "Signs_labels_dict = {\n",
    "    'Snow': 0,\n",
    "    'Speed20': 1,\n",
    "}\n",
    "\n",
    "\n",
    "X_Images, Y_Labels = [], []\n",
    "\n",
    "# Process images and labels and add to array. We fetch image class and images from their file path, \n",
    "# resize to 64x64 then add to list.\n",
    "\n",
    "for Sign_name, images in Signs_images_dict.items():\n",
    "    for image in images:\n",
    "        img = cv2.imread(str(image))\n",
    "        resized_img = cv2.resize(img,(64,64))\n",
    "        X_Images.append(resized_img)\n",
    "        Y_Labels.append(Signs_labels_dict[Sign_name])\n",
    "\n",
    "\n",
    "#Convert List to numpy arrays\n",
    "X_Images = np.array(X_Images)\n",
    "Y_Labels = np.array(Y_Labels)\n",
    "\n",
    "\n",
    "#Split Total images to Train and Test\n",
    "X_train_1, X_test, Y_train_1, Y_test = train_test_split(X_Images, Y_Labels, test_size=0.2, random_state=0, stratify=Y_Labels)\n",
    "\n",
    "\n",
    "#Split Train images to Train and Validation\n",
    "X_train, X_Val, Y_train, Y_Val = train_test_split(X_train_1, Y_train_1, test_size=0.1, random_state=0, stratify=Y_train_1)\n",
    "\n",
    "\n",
    "X_train, X_Val, X_test = X_train / 255.0, X_Val / 255.0, X_test / 255.0  #Normalize data \n",
    "\n",
    "\n",
    "print(\"Training Data:\")\n",
    "print(X_train.shape)\n",
    "print(Y_train.shape)\n",
    "print()\n",
    "\n",
    "print(\"Validation Data:\")\n",
    "print(X_Val.shape)\n",
    "print(Y_Val.shape)\n",
    "print()\n",
    "\n",
    "print(\"Test Data:\")\n",
    "print(X_test.shape)\n",
    "print(Y_test.shape)\n",
    "print()\n"
   ]
  },
  {
   "cell_type": "markdown",
   "id": "d83073b1",
   "metadata": {},
   "source": [
    "#### Create a Dense model"
   ]
  },
  {
   "cell_type": "code",
   "execution_count": 11,
   "id": "138f8b13",
   "metadata": {},
   "outputs": [
    {
     "name": "stdout",
     "output_type": "stream",
     "text": [
      "Model: \"sequential\"\n",
      "_________________________________________________________________\n",
      "Layer (type)                 Output Shape              Param #   \n",
      "=================================================================\n",
      "flatten (Flatten)            (None, 12288)             0         \n",
      "_________________________________________________________________\n",
      "dense (Dense)                (None, 10)                122890    \n",
      "_________________________________________________________________\n",
      "dense_1 (Dense)              (None, 10)                110       \n",
      "_________________________________________________________________\n",
      "dense_2 (Dense)              (None, 1)                 11        \n",
      "=================================================================\n",
      "Total params: 123,011\n",
      "Trainable params: 123,011\n",
      "Non-trainable params: 0\n",
      "_________________________________________________________________\n"
     ]
    }
   ],
   "source": [
    "model = Sequential()\n",
    "\n",
    "model.add(keras.layers.Flatten(input_shape=(64,64,3)))  # Flatten input image to a vector\n",
    "\n",
    "\n",
    "# Add a full connected layers\n",
    "model.add(keras.layers.Dense(10, activation='relu'))\n",
    "model.add(keras.layers.Dense(10, activation='relu'))\n",
    "\n",
    "\n",
    "model.add(keras.layers.Dense(1,activation='sigmoid'))\n",
    "\n",
    "tf.keras.optimizers.SGD(learning_rate=0.002)  #SGD Optimiser\n",
    "\n",
    "loss_fun = keras.losses.BinaryCrossentropy()\n",
    "\n",
    "model.compile(loss=loss_fun, metrics=['accuracy'])\n",
    "model.summary()"
   ]
  },
  {
   "cell_type": "markdown",
   "id": "2387e50d",
   "metadata": {},
   "source": [
    "#### Train the model and fetch accuracy"
   ]
  },
  {
   "cell_type": "code",
   "execution_count": 12,
   "id": "e70fd443",
   "metadata": {
    "scrolled": false
   },
   "outputs": [
    {
     "name": "stdout",
     "output_type": "stream",
     "text": [
      "Epoch 1/10\n",
      "48/48 [==============================] - 4s 15ms/step - loss: 0.6882 - accuracy: 0.7937 - val_loss: 0.1752 - val_accuracy: 0.9057\n",
      "Epoch 2/10\n",
      "48/48 [==============================] - 0s 9ms/step - loss: 0.1811 - accuracy: 0.9347 - val_loss: 0.1040 - val_accuracy: 0.9434\n",
      "Epoch 3/10\n",
      "48/48 [==============================] - 0s 9ms/step - loss: 0.1538 - accuracy: 0.9621 - val_loss: 0.0711 - val_accuracy: 0.9434\n",
      "Epoch 4/10\n",
      "48/48 [==============================] - 0s 9ms/step - loss: 0.1068 - accuracy: 0.9705 - val_loss: 0.0201 - val_accuracy: 1.0000\n",
      "Epoch 5/10\n",
      "48/48 [==============================] - 0s 9ms/step - loss: 0.0921 - accuracy: 0.9768 - val_loss: 0.0113 - val_accuracy: 1.0000\n",
      "Epoch 6/10\n",
      "48/48 [==============================] - 0s 10ms/step - loss: 0.0426 - accuracy: 0.9895 - val_loss: 0.0062 - val_accuracy: 1.0000\n",
      "Epoch 7/10\n",
      "48/48 [==============================] - 0s 9ms/step - loss: 0.0304 - accuracy: 0.9895 - val_loss: 0.0042 - val_accuracy: 1.0000\n",
      "Epoch 8/10\n",
      "48/48 [==============================] - 0s 9ms/step - loss: 0.0469 - accuracy: 0.9895 - val_loss: 0.0031 - val_accuracy: 1.0000\n",
      "Epoch 9/10\n",
      "48/48 [==============================] - 0s 9ms/step - loss: 0.0354 - accuracy: 0.9937 - val_loss: 0.0020 - val_accuracy: 1.0000\n",
      "Epoch 10/10\n",
      "48/48 [==============================] - 0s 9ms/step - loss: 0.0416 - accuracy: 0.9832 - val_loss: 0.0016 - val_accuracy: 1.0000\n",
      "5/5 [==============================] - 0s 8ms/step - loss: 0.0042 - accuracy: 1.0000\n",
      "Accuracy of Test data is: 100.0 %\n"
     ]
    },
    {
     "data": {
      "image/png": "[encoded data removed]",
      "text/plain": [
       "<Figure size 1152x288 with 2 Axes>"
      ]
     },
     "metadata": {
      "needs_background": "light"
     },
     "output_type": "display_data"
    }
   ],
   "source": [
    "#TRAIN THE MODEL\n",
    "tr_hist = model.fit(X_train, Y_train, batch_size=10, epochs=10, verbose=1, validation_data=(X_Val, Y_Val))\n",
    "\n",
    "\n",
    "acc = model.evaluate(X_test, Y_test, verbose=1)    #Test Data Accuracy\n",
    "print(f'Accuracy of Test data is: {acc[1]*100} %')\n",
    "\n",
    "#Plot graphs\n",
    "plt.figure(figsize=(16,4))  \n",
    "plt.subplot(1, 2, 1)\n",
    "\n",
    "plt.plot(tr_hist.history['loss'],label=\"Train loss\")\n",
    "plt.plot(tr_hist.history['val_loss'],label=\"Validation loss\", linestyle='-')\n",
    "plt.title('LOSS')\n",
    "plt.ylabel('Loss')\n",
    "plt.xlabel('epochs')\n",
    "plt.legend(loc='upper right')\n",
    "\n",
    "plt.subplot(1, 2, 2)\n",
    "plt.plot(tr_hist.history['accuracy'],label=\"Train accuracy\")\n",
    "plt.plot(tr_hist.history['val_accuracy'],label=\"Validation accuracy\", linestyle='-')\n",
    "plt.title('ACCURACY')\n",
    "plt.ylabel('Accuracy')\n",
    "plt.xlabel('epochs')\n",
    "plt.legend(loc='lower right')\n",
    "plt.show()\n"
   ]
  },
  {
   "cell_type": "markdown",
   "id": "6a81f2cc",
   "metadata": {},
   "source": [
    "**Check their classification report**"
   ]
  },
  {
   "cell_type": "code",
   "execution_count": 13,
   "id": "e65a2651",
   "metadata": {},
   "outputs": [
    {
     "name": "stdout",
     "output_type": "stream",
     "text": [
      "              precision    recall  f1-score   support\n",
      "\n",
      "           0       1.00      1.00      1.00        90\n",
      "           1       1.00      1.00      1.00        42\n",
      "\n",
      "    accuracy                           1.00       132\n",
      "   macro avg       1.00      1.00      1.00       132\n",
      "weighted avg       1.00      1.00      1.00       132\n",
      "\n"
     ]
    }
   ],
   "source": [
    "BATCH = model.predict(X_test)\n",
    "BA=np.round(BATCH)\n",
    "print(classification_report(Y_test, BA))"
   ]
  }
 ],
 "metadata": {
  "kernelspec": {
   "display_name": "tf",
   "language": "python",
   "name": "tf"
  },
  "language_info": {
   "codemirror_mode": {
    "name": "ipython",
    "version": 3
   },
   "file_extension": ".py",
   "mimetype": "text/x-python",
   "name": "python",
   "nbconvert_exporter": "python",
   "pygments_lexer": "ipython3",
   "version": "3.8.11"
  }
 },
 "nbformat": 4,
 "nbformat_minor": 5
}
