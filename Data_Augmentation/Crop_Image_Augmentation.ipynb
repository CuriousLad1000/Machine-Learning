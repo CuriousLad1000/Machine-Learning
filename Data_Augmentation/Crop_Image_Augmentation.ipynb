{
 "cells": [
  {
   "cell_type": "markdown",
   "metadata": {},
   "source": [
    "**Crop images Augmentation**\n",
    "\n",
    "This Code adds the functionality of Data augmentation by cropping images in 1x1 and 2x1 in horizontal form."
   ]
  },
  {
   "cell_type": "code",
   "execution_count": 19,
   "metadata": {
    "execution": {
     "iopub.execute_input": "2022-07-19T14:18:08.726409Z",
     "iopub.status.busy": "2022-07-19T14:18:08.725533Z",
     "iopub.status.idle": "2022-07-19T14:18:08.732350Z",
     "shell.execute_reply": "2022-07-19T14:18:08.731454Z",
     "shell.execute_reply.started": "2022-07-19T14:18:08.726368Z"
    }
   },
   "outputs": [
    {
     "name": "stdout",
     "output_type": "stream",
     "text": [
      "Libraries Loaded\n"
     ]
    }
   ],
   "source": [
    "# Augmentator Hcrop 1x1 and 2x1\n",
    "\n",
    "import numpy as np\n",
    "import matplotlib.pyplot as plt\n",
    "from numpy import load\n",
    "import gc\n",
    "import cv2\n",
    "import pandas as pd\n",
    "\n",
    "\n",
    "#========== Neural NW\n",
    "import tensorflow as tf\n",
    "\n",
    "print(\"Libraries Loaded\")"
   ]
  },
  {
   "cell_type": "code",
   "execution_count": 20,
   "metadata": {
    "execution": {
     "iopub.execute_input": "2022-07-19T14:18:08.863697Z",
     "iopub.status.busy": "2022-07-19T14:18:08.863422Z",
     "iopub.status.idle": "2022-07-19T14:18:09.678094Z",
     "shell.execute_reply": "2022-07-19T14:18:09.676556Z",
     "shell.execute_reply.started": "2022-07-19T14:18:08.863669Z"
    }
   },
   "outputs": [
    {
     "name": "stdout",
     "output_type": "stream",
     "text": [
      "Batch2: Training Data Dim (100000, 8, 8, 3)   Label Data Dim: (100000,)\n",
      "Batch1: Training Data Dim (100000, 8, 8, 3)   Label Data Dim: (100000,)\n",
      "(X_TEST) Test Dataset's Dimensions: (100000, 8, 8) label Dim:  (100000,)\n",
      "(X)      Training Dataset's Dimensions: (100000, 8, 8) label Dim:  (100000,)\n",
      "\n"
     ]
    },
    {
     "data": {
      "text/plain": [
       "216"
      ]
     },
     "execution_count": 20,
     "metadata": {},
     "output_type": "execute_result"
    }
   ],
   "source": [
    "dict_Validation = load('../input/processed-total-dataset/Processed_Val.npz')\n",
    "Val = dict_Validation['arr_0']\n",
    "Val = Val[:,:,:,0]\n",
    "#Scale Validation data between 0 and 1, Others were already scaled.\n",
    "Val = (Val - np.min(Val)) / (np.max(Val) - np.min(Val)).astype(np.float32)\n",
    "del dict_Validation\n",
    "\n",
    "def Data_Loader(Batch_number):\n",
    "    path ='../input/processed-batches/Batch' + str(Batch_number) \n",
    "    dict_Batch_X = load(path + '_X.npz')\n",
    "    dict_Batch_Y = load(path + '_Y.npz')\n",
    "    Xa = dict_Batch_X['arr_0']\n",
    "    Ya = dict_Batch_Y['arr_0']\n",
    "    print(\"Batch\"+ str(Batch_number)+\":\", \"Training Data Dim\", Xa.shape,\"  Label Data Dim:\", Ya.shape)\n",
    "    del dict_Batch_X\n",
    "    del dict_Batch_Y\n",
    "    return Xa, Ya\n",
    "\n",
    "Test_Batch = 2\n",
    "\n",
    "\n",
    "X_TEST, Y_TEST =  Data_Loader(Test_Batch)\n",
    "X_TEST = X_TEST[:,:,:,0]  #single channel mode\n",
    "\n",
    "\n",
    "X, Y = Data_Loader(1)\n",
    "\n",
    "X = X[:,:,:,0]  #single channel mode\n",
    "Y=Y.astype(np.int16)\n",
    "#X=X.astype(np.float16)\n",
    "print(\"(X_TEST) Test Dataset's Dimensions:\" ,X_TEST.shape,\"label Dim: \", Y_TEST.shape)\n",
    "print(\"(X)      Training Dataset's Dimensions:\" ,X.shape,\"label Dim: \", Y.shape)\n",
    "print()\n",
    "Y=tf.one_hot(Y, 1000)\n",
    "gc.collect()"
   ]
  },
  {
   "cell_type": "markdown",
   "metadata": {},
   "source": [
    "**Sample Image Plots**"
   ]
  },
  {
   "cell_type": "code",
   "execution_count": 21,
   "metadata": {
    "execution": {
     "iopub.execute_input": "2022-07-19T14:18:09.680215Z",
     "iopub.status.busy": "2022-07-19T14:18:09.680005Z",
     "iopub.status.idle": "2022-07-19T14:18:10.011416Z",
     "shell.execute_reply": "2022-07-19T14:18:10.010677Z",
     "shell.execute_reply.started": "2022-07-19T14:18:09.680188Z"
    }
   },
   "outputs": [
    {
     "data": {
      "text/plain": [
       "<matplotlib.image.AxesImage at 0x7f8bfd7358d0>"
      ]
     },
     "execution_count": 21,
     "metadata": {},
     "output_type": "execute_result"
    },
    {
     "data": {
      "image/png": "[encoded data removed]",
      "text/plain": [
       "<Figure size 576x576 with 2 Axes>"
      ]
     },
     "metadata": {
      "needs_background": "light"
     },
     "output_type": "display_data"
    }
   ],
   "source": [
    "tst_img=X[0]\n",
    "val_img=Val[0]\n",
    "tst_bat=X[:10]\n",
    "\n",
    "fig, axs = plt.subplots(1, 2,figsize=(8, 8))\n",
    "axs[0].set_title('Original Training Image')\n",
    "axs[0].imshow(tst_img, cmap='gray')\n",
    "axs[1].set_title('Validation Image')\n",
    "axs[1].imshow(val_img, cmap='gray')"
   ]
  },
  {
   "cell_type": "code",
   "execution_count": null,
   "metadata": {},
   "outputs": [],
   "source": []
  },
  {
   "cell_type": "markdown",
   "metadata": {},
   "source": [
    "**level1- 1x1, level2- 1x1,2x1, Append will add original dataset as well.**\n",
    "\n",
    "At level 1, The returned array will have 1x1 cropped images, and original images (if append is true). Lables will also be returned.\n",
    "\n",
    "At level 2, The returned array will have 1x1 cropped images, 2x1 cropped images, original images (if append is true). Lables will also be returned."
   ]
  },
  {
   "cell_type": "code",
   "execution_count": 22,
   "metadata": {
    "execution": {
     "iopub.execute_input": "2022-07-19T14:18:10.012910Z",
     "iopub.status.busy": "2022-07-19T14:18:10.012695Z",
     "iopub.status.idle": "2022-07-19T14:18:10.032907Z",
     "shell.execute_reply": "2022-07-19T14:18:10.031791Z",
     "shell.execute_reply.started": "2022-07-19T14:18:10.012884Z"
    }
   },
   "outputs": [],
   "source": [
    "def Augmentator(Image_Batch, Label=0, crop_level=1, Append=True):\n",
    "\n",
    "    template_h_1x1 = np.array([[0,0,0,0,0,0,0,0], [1,1,1,1,1,1,1,1], [1,1,1,1,1,1,1,1], \n",
    "                               [1,1,1,1,1,1,1,1], [1,1,1,1,1,1,1,1], [1,1,1,1,1,1,1,1],\n",
    "                               [1,1,1,1,1,1,1,1], [0,0,0,0,0,0,0,0]]).astype('uint8')\n",
    "    \n",
    "    template_h_2x1 = np.array([[0,0,0,0,0,0,0,0], [0,0,0,0,0,0,0,0], [1,1,1,1,1,1,1,1], \n",
    "                               [1,1,1,1,1,1,1,1], [1,1,1,1,1,1,1,1], [1,1,1,1,1,1,1,1],\n",
    "                               [1,1,1,1,1,1,1,1], [0,0,0,0,0,0,0,0]]).astype('uint8')\n",
    "    \n",
    "    y = Label\n",
    "\n",
    "    if Append==True:\n",
    "        if not isinstance(y, (list, tuple, np.ndarray,tf.Tensor)): #y==0:  #No labels, only data augment\n",
    "\n",
    "            New_Batch = np.multiply(Image_Batch,template_h_1x1)\n",
    "            New_Batch = np.concatenate( (Image_Batch,New_Batch), axis=0 )\n",
    "        \n",
    "            if crop_level==2:\n",
    "                New_Batch2 = np.multiply(Image_Batch,template_h_2x1)\n",
    "                New_Batch = np.concatenate( (New_Batch,New_Batch2), axis=0 )\n",
    "\n",
    "            return New_Batch\n",
    "        \n",
    "        else: #labels array present:\n",
    "            \n",
    "            New_Batch = np.multiply(Image_Batch,template_h_1x1)\n",
    "            New_Batch = np.concatenate( (Image_Batch,New_Batch), axis=0 )\n",
    "            \n",
    "            New_Label = np.concatenate( (y,y), axis=0 )  #Repeat labels for all new images\n",
    "        \n",
    "            if crop_level==2:\n",
    "                New_Batch2 = np.multiply(Image_Batch,template_h_2x1)\n",
    "                New_Batch = np.concatenate( (New_Batch,New_Batch2), axis=0 )\n",
    "                New_Label = np.concatenate( (New_Label,y), axis=0 )  #Repeat labels for all new images\n",
    "\n",
    "            return New_Batch, New_Label\n",
    "            \n",
    "    else: #Append is False here,\n",
    "        if crop_level==2 and (isinstance(y, (list, tuple, np.ndarray,tf.Tensor))): #Y!=0:\n",
    "            New_Batch2 = np.multiply(Image_Batch,template_h_2x1)  #2x1 imgs\n",
    "            \n",
    "            Image_Batch = np.multiply(Image_Batch,template_h_1x1)  #1x1 imgs\n",
    "            New_Batch2 = np.concatenate( (Image_Batch,New_Batch2), axis=0 ) #1x1 and 2x1 imgs appended\n",
    "            New_Label2 = np.concatenate( (y,y), axis=0 )  #Repeat labels for all new images\n",
    "            \n",
    "            return New_Batch2, New_Label2\n",
    "        \n",
    "        else:  #if only replace and no append\n",
    "            Image_Batch = np.multiply(Image_Batch,template_h_1x1)\n",
    "            return Image_Batch\n"
   ]
  },
  {
   "cell_type": "code",
   "execution_count": 24,
   "metadata": {
    "execution": {
     "iopub.execute_input": "2022-07-19T14:19:26.038164Z",
     "iopub.status.busy": "2022-07-19T14:19:26.036571Z",
     "iopub.status.idle": "2022-07-19T14:19:26.784673Z",
     "shell.execute_reply": "2022-07-19T14:19:26.783391Z",
     "shell.execute_reply.started": "2022-07-19T14:19:26.038072Z"
    }
   },
   "outputs": [
    {
     "name": "stdout",
     "output_type": "stream",
     "text": [
      "Original X's Shape: (100000, 8, 8)\n",
      "\n",
      "(Overwrite X's data) level-1 and append-False Shape: (100000, 8, 8)\n",
      "\n",
      "(Overwrite X's data) level-1 and append-False Shape: (200000, 8, 8)\n",
      "(Overwrite Y's data) level-1 and append-False Shape: (200000, 1000)\n",
      "\n"
     ]
    },
    {
     "data": {
      "text/plain": [
       "array([[0.        , 0.        , 0.        , 0.        , 0.        ,\n",
       "        0.        , 0.        , 0.        ],\n",
       "       [0.5176471 , 0.52156866, 0.5568628 , 0.43137255, 0.35686275,\n",
       "        0.5294118 , 0.5176471 , 0.5137255 ],\n",
       "       [0.50980395, 0.57254905, 0.28627452, 0.21568628, 0.47843137,\n",
       "        0.53333336, 0.5176471 , 0.5176471 ],\n",
       "       [0.5019608 , 0.39607844, 0.18431373, 0.47843137, 0.5882353 ,\n",
       "        0.52156866, 0.52156866, 0.52156866],\n",
       "       [0.5803922 , 0.35686275, 0.08235294, 0.5058824 , 0.5372549 ,\n",
       "        0.49803922, 0.52156866, 0.52156866],\n",
       "       [0.54901963, 0.42352942, 0.39607844, 0.5647059 , 0.5254902 ,\n",
       "        0.5254902 , 0.5254902 , 0.5254902 ],\n",
       "       [0.5254902 , 0.54901963, 0.5647059 , 0.5254902 , 0.5254902 ,\n",
       "        0.5254902 , 0.5254902 , 0.5254902 ],\n",
       "       [0.        , 0.        , 0.        , 0.        , 0.        ,\n",
       "        0.        , 0.        , 0.        ]], dtype=float32)"
      ]
     },
     "execution_count": 24,
     "metadata": {},
     "output_type": "execute_result"
    }
   ],
   "source": [
    "print(\"Original X's Shape:\",X.shape)\n",
    "print()\n",
    "Xaug = Augmentator(X, Label=0, crop_level=1, Append=False) #level1- 1x1, level2- 1x1,2x1, Append will add original dataset as well.\n",
    "print(\"(Overwrite X's data) level-1 and append-False Shape:\",Xaug.shape)\n",
    "print()\n",
    "\n",
    "Xaug, Yaug = Augmentator(X, Label=Y, crop_level=1, Append=True) #level1- 1x1, level2- 1x1,2x1, Append will add original dataset as well.\n",
    "print(\"(Overwrite X's data) level-1 and append-False Shape:\",Xaug.shape)\n",
    "print(\"(Overwrite Y's data) level-1 and append-False Shape:\",Yaug.shape)\n",
    "print()\n",
    "\n",
    "Xaug[-1]  #Show last item in array"
   ]
  },
  {
   "cell_type": "code",
   "execution_count": null,
   "metadata": {},
   "outputs": [],
   "source": []
  }
 ],
 "metadata": {
  "kernelspec": {
   "display_name": "Python 3 (ipykernel)",
   "language": "python",
   "name": "python3"
  },
  "language_info": {
   "codemirror_mode": {
    "name": "ipython",
    "version": 3
   },
   "file_extension": ".py",
   "mimetype": "text/x-python",
   "name": "python",
   "nbconvert_exporter": "python",
   "pygments_lexer": "ipython3",
   "version": "3.8.11"
  }
 },
 "nbformat": 4,
 "nbformat_minor": 4
}
