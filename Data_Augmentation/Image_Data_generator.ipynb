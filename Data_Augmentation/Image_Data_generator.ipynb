{
 "cells": [
  {
   "cell_type": "markdown",
   "metadata": {},
   "source": [
    "<b>Data augmentation using Image data generator</b>\n",
    "\n",
    "In this code we will augment image data using Image datagenerator and then export them as a zipped numpy files\n",
    "Data Augmentation and Saving Augmented data array for training\n"
   ]
  },
  {
   "cell_type": "code",
   "execution_count": 1,
   "metadata": {
    "execution": {
     "iopub.execute_input": "2022-07-18T15:26:32.734008Z",
     "iopub.status.busy": "2022-07-18T15:26:32.733643Z",
     "iopub.status.idle": "2022-07-18T15:26:50.507888Z",
     "shell.execute_reply": "2022-07-18T15:26:50.506932Z",
     "shell.execute_reply.started": "2022-07-18T15:26:32.733912Z"
    }
   },
   "outputs": [
    {
     "name": "stdout",
     "output_type": "stream",
     "text": [
      "cuML version 21.10.02\n"
     ]
    }
   ],
   "source": [
    "import pickle\n",
    "import numpy as np\n",
    "import matplotlib.pyplot as plt\n",
    "from keras.preprocessing.image import ImageDataGenerator\n",
    "from numpy import load, savez_compressed\n",
    "import gc\n",
    "\n",
    "\n",
    "def unpickle(file):\n",
    "    with open(file, 'rb') as f:\n",
    "        dict = pickle.load(f, encoding=\"latin1\")\n",
    "    return dict\n",
    "\n",
    "data_FULL_training = unpickle(r'../input/trimagi/training_x.dat') #Loads all unpickled raw data in datadict variable\n",
    "Label_FULL_training = unpickle(r'../input/trimagi/training_y.dat') #Loads all unpickled raw data in datadict variable\n",
    "\n",
    "data_Validation = unpickle(r'../input/trimagi/validation_x.dat') #Loads all unpickled raw Test data in datadict_tst variable\n"
   ]
  },
  {
   "cell_type": "code",
   "execution_count": 2,
   "metadata": {
    "execution": {
     "iopub.execute_input": "2022-07-18T15:26:54.416260Z",
     "iopub.status.busy": "2022-07-18T15:26:54.415971Z",
     "iopub.status.idle": "2022-07-18T15:26:54.751537Z",
     "shell.execute_reply": "2022-07-18T15:26:54.750582Z",
     "shell.execute_reply.started": "2022-07-18T15:26:54.416232Z"
    }
   },
   "outputs": [
    {
     "name": "stdout",
     "output_type": "stream",
     "text": [
      "Validation Dataset's Dimensions: (48238, 64)\n"
     ]
    },
    {
     "data": {
      "text/plain": [
       "45"
      ]
     },
     "execution_count": 2,
     "metadata": {},
     "output_type": "execute_result"
    }
   ],
   "source": [
    "def Val_Processing(validation_list):\n",
    "    \n",
    "    validation_list=np.array(validation_list)\n",
    "    validation_list=validation_list[:,:,:,0]\n",
    "    validation_list = validation_list.reshape(validation_list.shape[0], validation_list.shape[1]*validation_list.shape[2])\n",
    "           \n",
    "    return validation_list\n",
    "\n",
    "VALIDATION_TST = Val_Processing(data_Validation)\n",
    "\n",
    "VALIDATION_TST = (VALIDATION_TST - np.min(VALIDATION_TST)) / (np.max(VALIDATION_TST) - np.min(VALIDATION_TST))\n",
    "\n",
    "print(\"Validation Dataset's Dimensions:\" ,VALIDATION_TST.shape)\n",
    "\n",
    "del data_Validation\n",
    "gc.collect()"
   ]
  },
  {
   "cell_type": "code",
   "execution_count": 3,
   "metadata": {
    "execution": {
     "iopub.execute_input": "2022-07-18T15:26:58.064684Z",
     "iopub.status.busy": "2022-07-18T15:26:58.064181Z",
     "iopub.status.idle": "2022-07-18T15:27:08.490407Z",
     "shell.execute_reply": "2022-07-18T15:27:08.489335Z",
     "shell.execute_reply.started": "2022-07-18T15:26:58.064653Z"
    }
   },
   "outputs": [
    {
     "name": "stdout",
     "output_type": "stream",
     "text": [
      "Removing value at index 216805\n",
      "Training Dataset's Dimensions: (1300000, 64) class Dim:  (1300000,)\n"
     ]
    },
    {
     "data": {
      "text/plain": [
       "0"
      ]
     },
     "execution_count": 3,
     "metadata": {},
     "output_type": "execute_result"
    }
   ],
   "source": [
    "def DATA_Processing2(data_list,class_list):\n",
    "    \n",
    "    #Remove unformatted data\n",
    "    remove_idx=[]\n",
    "    for i in range(1,len(data_list)):\n",
    "        if data_list[i].shape[0]!=8 or data_list[i].shape[1]!=8 or data_list[i].shape[2]!=3:\n",
    "            #print(i)\n",
    "            #print(data_list[i].shape)  \n",
    "            remove_idx.append(i)\n",
    "\n",
    "    for j in range(len(remove_idx)):    \n",
    "        print(\"Removing value at index\",remove_idx[j]) \n",
    "        remove=data_list.pop(remove_idx[j])\n",
    "        remove=class_list.pop(remove_idx[j])\n",
    "\n",
    "\n",
    "    data_list=np.array(data_list) \n",
    "    class_list=np.array(class_list)\n",
    "    \n",
    "    \n",
    "    #8x8 image FILTERED TO 64 BIT vector\n",
    "    data_list=data_list[:,:,:,0]\n",
    "\n",
    "    #data_list = data_list.reshape(data_list.shape[0], data_list.shape[1]*data_list.shape[2])\n",
    "    \n",
    "    #print(data_list[0])\n",
    "\n",
    "    return data_list,class_list\n",
    "\n",
    "X_original,Y_original = DATA_Processing2(data_FULL_training,Label_FULL_training)\n",
    "\n",
    "X_original = X_original.reshape(X_original.shape[0], X_original.shape[1]*X_original.shape[2])\n",
    "\n",
    "smote = SMOTE(sampling_strategy='auto')\n",
    "X_original, Y_original = smote.fit_resample(X_original, Y_original)\n",
    "\n",
    "print(\"Training Dataset's Dimensions:\" ,X_original.shape,\"class Dim: \", Y_original.shape)\n",
    "\n",
    "del data_FULL_training\n",
    "del Label_FULL_training\n",
    "gc.collect()"
   ]
  },
  {
   "cell_type": "markdown",
   "metadata": {},
   "source": [
    "**Image DataGenerator can be used to generate any number of augmentations**\n",
    "\n",
    "The parameters such as width_shift_range, rotation range, height shift, flip etc.. can be provided to generate augmented images.\n",
    "\n",
    "datagen.flow takes images and labels in specialised form along with the batch size and shuffle flag.\n",
    "The Augmented data and lables are appended to lists and then exported as numpy zip fle.\n",
    "note that this flow creates and infinity loop and will continue to iterate and will require a terminating condition to exit the for loop.\n",
    "\n",
    "In our case, if the **num_augmented** variable that works as counter becomes equal to the number of total images in our original dataset, then we exit the loop. Since we have already iterated over entire dataset and have created an augmented batch for each image in the dataset, we can exit."
   ]
  },
  {
   "cell_type": "code",
   "execution_count": 4,
   "metadata": {
    "execution": {
     "iopub.execute_input": "2022-07-18T15:27:48.012773Z",
     "iopub.status.busy": "2022-07-18T15:27:48.012494Z",
     "iopub.status.idle": "2022-07-18T15:49:25.979177Z",
     "shell.execute_reply": "2022-07-18T15:49:25.978193Z",
     "shell.execute_reply.started": "2022-07-18T15:27:48.012744Z"
    }
   },
   "outputs": [
    {
     "name": "stdout",
     "output_type": "stream",
     "text": [
      "50000\n",
      "100000\n",
      "150000\n",
      "200000\n",
      "250000\n",
      "300000\n",
      "350000\n",
      "400000\n",
      "450000\n",
      "500000\n",
      "550000\n",
      "600000\n",
      "650000\n",
      "700000\n",
      "750000\n",
      "800000\n",
      "850000\n",
      "900000\n",
      "950000\n",
      "1000000\n",
      "1050000\n",
      "1100000\n",
      "1150000\n",
      "1200000\n",
      "1250000\n",
      "1300000\n",
      "\n",
      "Data Shape:  (6500000, 64)  Label Shape: (6500000,)\n"
     ]
    },
    {
     "data": {
      "text/plain": [
       "0"
      ]
     },
     "execution_count": 4,
     "metadata": {},
     "output_type": "execute_result"
    }
   ],
   "source": [
    "#datagen = ImageDataGenerator(rotation_range=10, zoom_range = 0.10, width_shift_range=0.1, height_shift_range=0.1)\n",
    "#datagen = ImageDataGenerator(width_shift_range=0.1)\n",
    "\n",
    "#datagen = ImageDataGenerator(rotation_range=10,zoom_range = 0.10,width_shift_range=4, height_shift_range=4)\n",
    "datagen = ImageDataGenerator(width_shift_range=2, height_shift_range=2,fill_mode=\"constant\") \n",
    "#additional flags... ,horizontal_flip=True,vertical_flip=True\n",
    "\n",
    "augmented_data = []\n",
    "augmented_Label = []\n",
    "\n",
    "num_augmented = 0\n",
    "batch_size = 4  #Each image will create 4 augmented images so, augmented data will be 4 times original data\n",
    "\n",
    "for X_batch, y_batch in datagen.flow(X_original.reshape((-1,8,8,1)), Y_original.reshape((-1,1)), batch_size=batch_size, shuffle=False):\n",
    "    augmented_data.append(X_batch)\n",
    "    augmented_Label.append(y_batch)\n",
    "    \n",
    "    #num_augmented += batch_size\n",
    "    num_augmented += 1\n",
    "    \n",
    "    if (num_augmented % 50000 == 0): print(num_augmented)  #Only used to track how many images in dataset have been augmented.\n",
    "    if num_augmented == X_original.shape[0]:   #Breaking condition\n",
    "        break\n",
    "X = np.concatenate(augmented_data).astype(\"uint8\")  #Change data type to uint8 for ease of storage and list to np array\n",
    "X = X[:,:,:,0]                                      #Store only single channel\n",
    "X = X.reshape(X.shape[0], X.shape[1]*X.shape[2])  #Reshape\n",
    "\n",
    "Y = np.concatenate(augmented_Label).flatten().astype(\"uint8\") \n",
    "\n",
    "X = np.concatenate((X_original,X))   #Concatinate original data to agumneted data\n",
    "Y = np.concatenate((Y_original,Y))\n",
    "\n",
    "\n",
    "print()\n",
    "print(\"Data Shape: \",X.shape,\" Label Shape:\",Y.shape)\n",
    "\n",
    "##To Save file\n",
    "savez_compressed('New_Y.npz', Y)  #Save as compressed numpy zip files.\n",
    "savez_compressed('New_X.npz', X)\n",
    "\n",
    "del augmented_data\n",
    "del augmented_Label\n",
    "gc.collect()"
   ]
  },
  {
   "cell_type": "markdown",
   "metadata": {},
   "source": [
    "**Test it out by Loading and visualizing**"
   ]
  },
  {
   "cell_type": "code",
   "execution_count": 5,
   "metadata": {
    "execution": {
     "iopub.execute_input": "2022-07-18T15:52:42.983721Z",
     "iopub.status.busy": "2022-07-18T15:52:42.983369Z",
     "iopub.status.idle": "2022-07-18T15:52:49.966613Z",
     "shell.execute_reply": "2022-07-18T15:52:49.965648Z",
     "shell.execute_reply.started": "2022-07-18T15:52:42.983689Z"
    }
   },
   "outputs": [
    {
     "name": "stdout",
     "output_type": "stream",
     "text": [
      "Training Dataset's Dimensions: (6500000, 64) class Dim:  (6500000,)\n",
      "\n"
     ]
    },
    {
     "data": {
      "text/plain": [
       "39"
      ]
     },
     "execution_count": 5,
     "metadata": {},
     "output_type": "execute_result"
    }
   ],
   "source": [
    "# load dict of arrays\n",
    "dict_data_X = load('../input/new-xy-aug-01/New_X.npz')\n",
    "dict_data_Y = load('../input/new-xy-aug-01/New_Y.npz')\n",
    "# extract the first array\n",
    "X = dict_data_X['arr_0']\n",
    "Y = dict_data_Y['arr_0']\n",
    "# print the array\n",
    "print(\"Training Dataset's Dimensions:\" ,X.shape,\"class Dim: \", Y.shape)\n",
    "print()\n",
    "\n",
    "del dict_data_X\n",
    "del dict_data_Y\n",
    "gc.collect()"
   ]
  },
  {
   "cell_type": "code",
   "execution_count": 6,
   "metadata": {
    "execution": {
     "iopub.execute_input": "2022-07-18T15:53:07.406206Z",
     "iopub.status.busy": "2022-07-18T15:53:07.405882Z",
     "iopub.status.idle": "2022-07-18T15:53:17.628228Z",
     "shell.execute_reply": "2022-07-18T15:53:17.627421Z",
     "shell.execute_reply.started": "2022-07-18T15:53:07.406175Z"
    }
   },
   "outputs": [
    {
     "data": {
      "text/plain": [
       "23"
      ]
     },
     "execution_count": 6,
     "metadata": {},
     "output_type": "execute_result"
    }
   ],
   "source": [
    "#Normalize the data since it was stored as uint8\n",
    "\n",
    "X = (X - np.min(X)) / (np.max(X) - np.min(X))\n",
    "X = np.array(X).astype(np.float32)  \n",
    "Y = np.array(Y).astype(np.float32) \n",
    "gc.collect()"
   ]
  },
  {
   "cell_type": "code",
   "execution_count": 7,
   "metadata": {
    "execution": {
     "iopub.execute_input": "2022-07-18T15:53:20.570048Z",
     "iopub.status.busy": "2022-07-18T15:53:20.569080Z",
     "iopub.status.idle": "2022-07-18T15:53:20.578974Z",
     "shell.execute_reply": "2022-07-18T15:53:20.577509Z",
     "shell.execute_reply.started": "2022-07-18T15:53:20.570007Z"
    }
   },
   "outputs": [
    {
     "data": {
      "text/plain": [
       "array([0.39215687, 0.3764706 , 0.39607844, 0.4392157 , 0.41960785,\n",
       "       0.38431373, 0.3764706 , 0.39215687, 0.39215687, 0.35686275,\n",
       "       0.40784314, 0.44313726, 0.43137255, 0.40392157, 0.44313726,\n",
       "       0.39607844, 0.3764706 , 0.39607844, 0.42352942, 0.52156866,\n",
       "       0.5568628 , 0.50980395, 0.5294118 , 0.47058824, 0.6313726 ,\n",
       "       0.627451  , 0.5686275 , 0.5803922 , 0.54901963, 0.5529412 ,\n",
       "       0.49411765, 0.45882353, 0.7490196 , 0.7372549 , 0.6431373 ,\n",
       "       0.63529414, 0.5372549 , 0.44313726, 0.44313726, 0.38431373,\n",
       "       0.4862745 , 0.44313726, 0.42745098, 0.41960785, 0.29803923,\n",
       "       0.1764706 , 0.27450982, 0.40784314, 0.49019608, 0.4745098 ,\n",
       "       0.54509807, 0.4745098 , 0.4       , 0.42745098, 0.5176471 ,\n",
       "       0.56078434, 0.73333335, 0.7372549 , 0.7372549 , 0.68235296,\n",
       "       0.7411765 , 0.7058824 , 0.5686275 , 0.5058824 ], dtype=float32)"
      ]
     },
     "execution_count": 7,
     "metadata": {},
     "output_type": "execute_result"
    }
   ],
   "source": [
    "#Print a sample image\n",
    "\n",
    "X[0]"
   ]
  },
  {
   "cell_type": "code",
   "execution_count": 8,
   "metadata": {
    "execution": {
     "iopub.execute_input": "2022-07-18T15:53:27.396497Z",
     "iopub.status.busy": "2022-07-18T15:53:27.396176Z",
     "iopub.status.idle": "2022-07-18T15:53:28.656845Z",
     "shell.execute_reply": "2022-07-18T15:53:28.655809Z",
     "shell.execute_reply.started": "2022-07-18T15:53:27.396468Z"
    }
   },
   "outputs": [
    {
     "data": {
      "image/png": "[encoded data removed]",
      "text/plain": [
       "<Figure size 432x288 with 1 Axes>"
      ]
     },
     "metadata": {
      "needs_background": "light"
     },
     "output_type": "display_data"
    }
   ],
   "source": [
    "#Plot a sample image\n",
    "\n",
    "plt.figure(1);\n",
    "plt.clf()\n",
    "plt.imshow(X[2801180].reshape((8,8)), cmap='gray')\n",
    "plt.pause(1)"
   ]
  }
 ],
 "metadata": {
  "kernelspec": {
   "display_name": "Python 3 (ipykernel)",
   "language": "python",
   "name": "python3"
  },
  "language_info": {
   "codemirror_mode": {
    "name": "ipython",
    "version": 3
   },
   "file_extension": ".py",
   "mimetype": "text/x-python",
   "name": "python",
   "nbconvert_exporter": "python",
   "pygments_lexer": "ipython3",
   "version": "3.8.11"
  }
 },
 "nbformat": 4,
 "nbformat_minor": 4
}
