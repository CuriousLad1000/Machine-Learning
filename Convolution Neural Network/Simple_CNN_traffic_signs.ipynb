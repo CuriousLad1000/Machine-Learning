{
 "cells": [
  {
   "cell_type": "markdown",
   "id": "628ba8b3",
   "metadata": {},
   "source": [
    "### Simple Convolution Neural network model to classify Traffic signs.\n",
    "\n",
    "In this code, we implement Convolution neural network model to classify the traffic signs."
   ]
  },
  {
   "cell_type": "code",
   "execution_count": 1,
   "id": "b01d3558",
   "metadata": {},
   "outputs": [
    {
     "name": "stdout",
     "output_type": "stream",
     "text": [
      "Total Images:  660\n",
      "Training Data:\n",
      "(475, 64, 64, 3)\n",
      "(475,)\n",
      "\n",
      "Validation Data:\n",
      "(53, 64, 64, 3)\n",
      "(53,)\n",
      "\n",
      "Test Data:\n",
      "(132, 64, 64, 3)\n",
      "(132,)\n",
      "\n"
     ]
    }
   ],
   "source": [
    "import matplotlib.pyplot as plt\n",
    "import numpy as np\n",
    "import cv2\n",
    "import pathlib\n",
    "import tensorflow as tf\n",
    "\n",
    "from tensorflow import keras\n",
    "from tensorflow.keras.models import Sequential\n",
    "from sklearn.model_selection import train_test_split\n",
    "from sklearn.metrics import classification_report\n",
    "\n",
    "data_dir = pathlib.Path('GTSRB_subset_2')   #Folder path containing data (download from datasets folder)\n",
    "\n",
    "#print(list(data_dir.glob('*/*.jpg'))[:5])\n",
    "\n",
    "image_count = len(list(data_dir.glob('*/*.jpg')))   ##Calcuate total images\n",
    "print(\"Total Images: \",image_count)\n",
    "\n",
    "\n",
    "# Since data is images separated in different folders, we can label them and create a dictionary \n",
    "#to hold labels mapped to file paths. \n",
    "\n",
    "Signs_images_dict = {\n",
    "    'Snow': list(data_dir.glob('class1/*')),\n",
    "    'Speed20': list(data_dir.glob('class2/*'))\n",
    "}\n",
    "\n",
    "\n",
    "#Dictionary to map labels to class numbers.\n",
    "Signs_labels_dict = {\n",
    "    'Snow': 0,\n",
    "    'Speed20': 1,\n",
    "}\n",
    "\n",
    "\n",
    "X_Images, Y_Labels = [], []\n",
    "\n",
    "\n",
    "# Process images and labels and add to array. We fetch image class and images from their file path, \n",
    "# resize to 64x64 then add to list.\n",
    "\n",
    "for Sign_name, images in Signs_images_dict.items():\n",
    "    for image in images:\n",
    "        img = cv2.imread(str(image))\n",
    "        resized_img = cv2.resize(img,(64,64))\n",
    "        X_Images.append(resized_img)\n",
    "        Y_Labels.append(Signs_labels_dict[Sign_name])\n",
    "\n",
    "\n",
    "\n",
    "#Convert List to numpy arrays\n",
    "X_Images = np.array(X_Images)\n",
    "Y_Labels = np.array(Y_Labels)\n",
    "\n",
    "#Split Total images to Train and Test\n",
    "X_train_1, X_test, Y_train_1, Y_test = train_test_split(X_Images, Y_Labels, test_size=0.2, random_state=2, stratify=Y_Labels)\n",
    "\n",
    "#Split Train images to Train and Validation\n",
    "X_train, X_Val, Y_train, Y_Val = train_test_split(X_train_1, Y_train_1, test_size=0.1, random_state=2, stratify=Y_train_1)\n",
    "\n",
    "\n",
    "# convert class vectors to binary class matrices\n",
    "Y_train_cat = keras.utils.to_categorical(Y_train, 2)\n",
    "Y_Val_cat = keras.utils.to_categorical(Y_Val, 2)\n",
    "Y_test_cat = keras.utils.to_categorical(Y_test,2)\n",
    "\n",
    "\n",
    "X_train, X_Val, X_test = X_train / 255.0, X_Val / 255.0, X_test / 255.0  #Normalize data \n",
    "\n",
    "\n",
    "print(\"Training Data:\")\n",
    "print(X_train.shape)\n",
    "print(Y_train.shape)\n",
    "print()\n",
    "\n",
    "print(\"Validation Data:\")\n",
    "print(X_Val.shape)\n",
    "print(Y_Val.shape)\n",
    "print()\n",
    "\n",
    "print(\"Test Data:\")\n",
    "print(X_test.shape)\n",
    "print(Y_test.shape)\n",
    "print()\n"
   ]
  },
  {
   "cell_type": "markdown",
   "id": "22d4d448",
   "metadata": {},
   "source": [
    "#### Create a CNN model"
   ]
  },
  {
   "cell_type": "code",
   "execution_count": 19,
   "id": "138f8b13",
   "metadata": {},
   "outputs": [
    {
     "name": "stdout",
     "output_type": "stream",
     "text": [
      "Model: \"sequential_6\"\n",
      "_________________________________________________________________\n",
      "Layer (type)                 Output Shape              Param #   \n",
      "=================================================================\n",
      "conv2d_12 (Conv2D)           (None, 31, 31, 10)        280       \n",
      "_________________________________________________________________\n",
      "max_pooling2d_12 (MaxPooling (None, 15, 15, 10)        0         \n",
      "_________________________________________________________________\n",
      "conv2d_13 (Conv2D)           (None, 7, 7, 10)          910       \n",
      "_________________________________________________________________\n",
      "max_pooling2d_13 (MaxPooling (None, 3, 3, 10)          0         \n",
      "_________________________________________________________________\n",
      "flatten_6 (Flatten)          (None, 90)                0         \n",
      "_________________________________________________________________\n",
      "dense_6 (Dense)              (None, 2)                 182       \n",
      "=================================================================\n",
      "Total params: 1,372\n",
      "Trainable params: 1,372\n",
      "Non-trainable params: 0\n",
      "_________________________________________________________________\n"
     ]
    }
   ],
   "source": [
    "model = Sequential()\n",
    "\n",
    "#model.add(keras.layers.Flatten(input_shape=(64,64,3)))  # Flatten input image to a vector\n",
    "model.add(keras.layers.Input(shape=(64,64,3)))\n",
    "\n",
    "model.add(keras.layers.Conv2D(10,kernel_size=(3,3),strides=(2,2), activation='relu'))\n",
    "model.add(keras.layers.MaxPool2D(pool_size=(2, 2)))\n",
    "\n",
    "model.add(keras.layers.Conv2D(10,kernel_size=(3,3),strides=(2,2), activation='relu'))\n",
    "model.add(keras.layers.MaxPool2D(pool_size=(2, 2)))\n",
    "\n",
    "model.add(keras.layers.Flatten()) # Flatten\n",
    "\n",
    "model.add(keras.layers.Dense(2,activation='sigmoid'))\n",
    "\n",
    "keras.optimizers.SGD(learning_rate=0.08)  #SGD Optimiser\n",
    "\n",
    "loss_fun = keras.losses.BinaryCrossentropy()\n",
    "\n",
    "model.compile(loss=loss_fun, metrics=['accuracy'])\n",
    "model.summary()"
   ]
  },
  {
   "cell_type": "markdown",
   "id": "e3a5f17c",
   "metadata": {},
   "source": [
    "#### Train the model and fetch accuracy"
   ]
  },
  {
   "cell_type": "code",
   "execution_count": 20,
   "id": "e70fd443",
   "metadata": {
    "scrolled": true
   },
   "outputs": [
    {
     "name": "stdout",
     "output_type": "stream",
     "text": [
      "Epoch 1/20\n",
      "60/60 [==============================] - 2s 14ms/step - loss: 0.6641 - accuracy: 0.7053 - val_loss: 0.6285 - val_accuracy: 0.6792\n",
      "Epoch 2/20\n",
      "60/60 [==============================] - 1s 11ms/step - loss: 0.5500 - accuracy: 0.8000 - val_loss: 0.4673 - val_accuracy: 0.9811\n",
      "Epoch 3/20\n",
      "60/60 [==============================] - 1s 10ms/step - loss: 0.4277 - accuracy: 0.9011 - val_loss: 0.3425 - val_accuracy: 0.8868\n",
      "Epoch 4/20\n",
      "60/60 [==============================] - 1s 10ms/step - loss: 0.3085 - accuracy: 0.9368 - val_loss: 0.2321 - val_accuracy: 0.9811\n",
      "Epoch 5/20\n",
      "60/60 [==============================] - 1s 10ms/step - loss: 0.2382 - accuracy: 0.9474 - val_loss: 0.1583 - val_accuracy: 1.0000\n",
      "Epoch 6/20\n",
      "60/60 [==============================] - 1s 11ms/step - loss: 0.1864 - accuracy: 0.9432 - val_loss: 0.1244 - val_accuracy: 0.9811\n",
      "Epoch 7/20\n",
      "60/60 [==============================] - 1s 11ms/step - loss: 0.1434 - accuracy: 0.9621 - val_loss: 0.1043 - val_accuracy: 0.9811\n",
      "Epoch 8/20\n",
      "60/60 [==============================] - 1s 10ms/step - loss: 0.1256 - accuracy: 0.9537 - val_loss: 0.1231 - val_accuracy: 0.9623\n",
      "Epoch 9/20\n",
      "60/60 [==============================] - 1s 10ms/step - loss: 0.1003 - accuracy: 0.9811 - val_loss: 0.0831 - val_accuracy: 0.9811\n",
      "Epoch 10/20\n",
      "60/60 [==============================] - 1s 11ms/step - loss: 0.0864 - accuracy: 0.9789 - val_loss: 0.0557 - val_accuracy: 1.0000\n",
      "Epoch 11/20\n",
      "60/60 [==============================] - 1s 10ms/step - loss: 0.0751 - accuracy: 0.9789 - val_loss: 0.1021 - val_accuracy: 0.9434\n",
      "Epoch 12/20\n",
      "60/60 [==============================] - 1s 11ms/step - loss: 0.0564 - accuracy: 0.9937 - val_loss: 0.0718 - val_accuracy: 0.9811\n",
      "Epoch 13/20\n",
      "60/60 [==============================] - 1s 10ms/step - loss: 0.0488 - accuracy: 0.9916 - val_loss: 0.0763 - val_accuracy: 0.9434\n",
      "Epoch 14/20\n",
      "60/60 [==============================] - 1s 10ms/step - loss: 0.0405 - accuracy: 0.9895 - val_loss: 0.0295 - val_accuracy: 1.0000\n",
      "Epoch 15/20\n",
      "60/60 [==============================] - 1s 10ms/step - loss: 0.0327 - accuracy: 0.9979 - val_loss: 0.0247 - val_accuracy: 1.0000\n",
      "Epoch 16/20\n",
      "60/60 [==============================] - 1s 11ms/step - loss: 0.0276 - accuracy: 0.9979 - val_loss: 0.0212 - val_accuracy: 1.0000\n",
      "Epoch 17/20\n",
      "60/60 [==============================] - 1s 11ms/step - loss: 0.0230 - accuracy: 0.9979 - val_loss: 0.0213 - val_accuracy: 1.0000\n",
      "Epoch 18/20\n",
      "60/60 [==============================] - 1s 11ms/step - loss: 0.0167 - accuracy: 1.0000 - val_loss: 0.0212 - val_accuracy: 1.0000\n",
      "Epoch 19/20\n",
      "60/60 [==============================] - 1s 11ms/step - loss: 0.0143 - accuracy: 1.0000 - val_loss: 0.0216 - val_accuracy: 1.0000\n",
      "Epoch 20/20\n",
      "60/60 [==============================] - 1s 11ms/step - loss: 0.0118 - accuracy: 1.0000 - val_loss: 0.0175 - val_accuracy: 1.0000\n",
      "\n",
      "5/5 [==============================] - 0s 8ms/step - loss: 0.0194 - accuracy: 1.0000\n",
      "Accuracy of Test data is: 100.0 %\n"
     ]
    },
    {
     "data": {
      "image/png": "[encoded data removed]",
      "text/plain": [
       "<Figure size 1152x288 with 2 Axes>"
      ]
     },
     "metadata": {
      "needs_background": "light"
     },
     "output_type": "display_data"
    }
   ],
   "source": [
    "##Since samples are less, it would be better to reduce batch size so that gradient updates more frequently.\n",
    "\n",
    "#TRAIN THE MODEL\n",
    "tr_hist = model.fit(X_train, Y_train_cat, batch_size=8, epochs=20, verbose=1, validation_data=(X_Val, Y_Val_cat))\n",
    "\n",
    "print()\n",
    "acc = model.evaluate(X_test, Y_test_cat, verbose=1)    #Test Data Accuracy\n",
    "print(f'Accuracy of Test data is: {acc[1]*100} %')\n",
    "\n",
    "#Plot graphs\n",
    "plt.figure(figsize=(16,4))  \n",
    "plt.subplot(1, 2, 1)\n",
    "\n",
    "plt.plot(tr_hist.history['loss'],label=\"Train loss\")\n",
    "plt.plot(tr_hist.history['val_loss'],label=\"Validation loss\", linestyle='-')\n",
    "plt.title('LOSS')\n",
    "plt.ylabel('Loss')\n",
    "plt.xlabel('epochs')\n",
    "plt.legend(loc='upper right')\n",
    "\n",
    "plt.subplot(1, 2, 2)\n",
    "plt.plot(tr_hist.history['accuracy'],label=\"Train accuracy\")\n",
    "plt.plot(tr_hist.history['val_accuracy'],label=\"Validation accuracy\", linestyle='-')\n",
    "plt.title('ACCURACY')\n",
    "plt.ylabel('Accuracy')\n",
    "plt.xlabel('epochs')\n",
    "plt.legend(loc='lower right')\n",
    "plt.show()\n"
   ]
  },
  {
   "cell_type": "markdown",
   "id": "14d4e639",
   "metadata": {},
   "source": [
    "**Check their classification report**"
   ]
  },
  {
   "cell_type": "code",
   "execution_count": 21,
   "id": "e65a2651",
   "metadata": {},
   "outputs": [
    {
     "name": "stdout",
     "output_type": "stream",
     "text": [
      "              precision    recall  f1-score   support\n",
      "\n",
      "           0       1.00      0.99      0.99        90\n",
      "           1       1.00      1.00      1.00        42\n",
      "\n",
      "   micro avg       1.00      0.99      1.00       132\n",
      "   macro avg       1.00      0.99      1.00       132\n",
      "weighted avg       1.00      0.99      1.00       132\n",
      " samples avg       0.99      0.99      0.99       132\n",
      "\n"
     ]
    }
   ],
   "source": [
    "BATCH = model.predict(X_test)\n",
    "BA=np.round(BATCH)\n",
    "print(classification_report(Y_test_cat, BA, zero_division=0))"
   ]
  }
 ],
 "metadata": {
  "kernelspec": {
   "display_name": "tf",
   "language": "python",
   "name": "tf"
  },
  "language_info": {
   "codemirror_mode": {
    "name": "ipython",
    "version": 3
   },
   "file_extension": ".py",
   "mimetype": "text/x-python",
   "name": "python",
   "nbconvert_exporter": "python",
   "pygments_lexer": "ipython3",
   "version": "3.8.11"
  }
 },
 "nbformat": 4,
 "nbformat_minor": 5
}
