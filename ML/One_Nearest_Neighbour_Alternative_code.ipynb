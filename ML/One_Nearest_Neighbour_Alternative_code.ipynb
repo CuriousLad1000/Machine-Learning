{
 "cells": [
  {
   "cell_type": "markdown",
   "id": "d9be8809",
   "metadata": {},
   "source": [
    "**Alternative version of Nearest Nighbour Classifier**\n",
    "\n",
    "In this code, we implement one nearest neighbour classifier on CIFAR-10 Dataset and calculate its efficiency.\n",
    "\n",
    "https://www.cs.toronto.edu/~kriz/cifar.html\n",
    "\n"
   ]
  },
  {
   "cell_type": "code",
   "execution_count": null,
   "id": "0d264ad3",
   "metadata": {},
   "outputs": [],
   "source": []
  },
  {
   "cell_type": "code",
   "execution_count": 1,
   "id": "9e8527a8",
   "metadata": {},
   "outputs": [
    {
     "name": "stdout",
     "output_type": "stream",
     "text": [
      "All Datasets Loaded\n",
      "Dataset's Dimensions: (50000, 3072)\n",
      "Test Dataset's Dimensions: (10000, 3072)\n",
      "========================================================================\n"
     ]
    }
   ],
   "source": [
    "import pickle\n",
    "import numpy as np\n",
    "from random import randint\n",
    "import matplotlib.pyplot as plt\n",
    "from random import random\n",
    "\n",
    "\n",
    "\n",
    "def unpickle(file):\n",
    "    with open(file, 'rb') as f:\n",
    "        dict = pickle.load(f, encoding=\"latin1\")\n",
    "    return dict\n",
    "\n",
    "datadict_tst = unpickle(r'/cifar-10/test_batch') #Loads all unpickled raw Test data in datadict_tst variable\n",
    "\n",
    "labeldict = unpickle(r'/cifar-10/batches.meta')\n",
    "label_names = labeldict[\"label_names\"]\n",
    "\n",
    "def Load_Data(Data_sets):\n",
    "    LBL=[]\n",
    "    for i in range(1, Data_sets+1):\n",
    "\n",
    "        path='/cifar-10/data_batch_{}'.format(i)\n",
    "        Load = unpickle(r'{}'.format(path))\n",
    "        DAT=Load[\"data\"]           \n",
    "        LBL+=Load[\"labels\"]\n",
    "        if i == 1:           \n",
    "            Da=Load[\"data\"]           \n",
    "        else:\n",
    "            Da=np.vstack([Da, DAT])           \n",
    "#    print(\"Data Shape:\",Da.shape)\n",
    "    LBL = np.array(LBL)\n",
    "#    print(\"Label Shape:\",LBL.shape)\n",
    "    return Da,LBL\n",
    "\n",
    "\n",
    "X,Y=Load_Data(5) #Load All 5 data sets into X1 and Labels in Y\n",
    "X = X.astype(\"int32\") #Reshape the 10K images into 3072. (Flattened)\n",
    "\n",
    "Q1a = datadict_tst[\"data\"]\n",
    "Q_Label = datadict_tst[\"labels\"]\n",
    "\n",
    "Q_TST = Q1a.astype(\"int32\") #Reshape the 10K images into 3072. (for RGBs)  \n",
    "Q_Label = np.array(Q_Label)  ## contains class numbers for each image to tell which img belongs to which class\n",
    "\n",
    "print('All Datasets Loaded')\n",
    "print(\"Dataset's Dimensions:\" ,X.shape)\n",
    "print(\"Test Dataset's Dimensions:\" ,Q_TST.shape)\n",
    "\n",
    "print('========================================================================')\n",
    "\n"
   ]
  },
  {
   "cell_type": "markdown",
   "id": "30901c2a",
   "metadata": {},
   "source": [
    "The Information in **X[0]** is given as a single vector of 3072. The color information is encoded as all reds together, all greens together and all blues together. so, 3 images of red,green,blue (3,32,32), we transpose it and re-arrange the channels to get correct image in order of (32,32,3)"
   ]
  },
  {
   "cell_type": "code",
   "execution_count": 2,
   "id": "adda0069",
   "metadata": {},
   "outputs": [
    {
     "name": "stdout",
     "output_type": "stream",
     "text": [
      "Shape before:  (3072,)\n",
      "Shape after:  (32, 32, 3)\n"
     ]
    },
    {
     "data": {
      "text/plain": [
       "<matplotlib.image.AxesImage at 0x158f5d7bcd0>"
      ]
     },
     "execution_count": 2,
     "metadata": {},
     "output_type": "execute_result"
    },
    {
     "data": {
      "image/png": "[encoded data removed]",
      "text/plain": [
       "<Figure size 432x288 with 1 Axes>"
      ]
     },
     "metadata": {
      "needs_background": "light"
     },
     "output_type": "display_data"
    }
   ],
   "source": [
    "lbl=Y[0]\n",
    "print(\"Shape before: \", X[0].shape)\n",
    "img=X[0].reshape(3,32,32).transpose(1,2,0)  #0 - channels at last, 1 - 32 width first, 2 - 32 height second, total (32,32,3)\n",
    "print(\"Shape after: \", img.shape)\n",
    "plt.title(f\"label={label_names[lbl]} (num {lbl})\")\n",
    "plt.imshow(img)"
   ]
  },
  {
   "cell_type": "code",
   "execution_count": null,
   "id": "c884fd9d",
   "metadata": {},
   "outputs": [],
   "source": []
  },
  {
   "cell_type": "markdown",
   "id": "414a934b",
   "metadata": {},
   "source": [
    "Define Random classifier and accuracy calculation function.\n",
    "\n",
    "Random classifier will randomly try to guess the classes of the test dataset. Considering we have 10 classes, the random classifier has at best 10% chance of correctly classifying the images. So, anything we build has to be better than 10% baseline to be considered as better."
   ]
  },
  {
   "cell_type": "code",
   "execution_count": 3,
   "id": "1ad8f932",
   "metadata": {},
   "outputs": [],
   "source": [
    "def class_acc(pred,gt): #This function will compare the Labels that were predicted using any \n",
    "                        #classifier (such as Random or 1NN) to Original labels that came with dataset (our ground truth)\n",
    "                        #and will give us an accuracy estimate of our program.\n",
    "    err=0            #will store number of mismatches\n",
    "    accuracy=0          #wil be used to calculate accuracy\n",
    "    for i in range(0,len(gt)): #Loop to iterate through all ground truth variables and compare with pred.\n",
    "        if gt[i]!=pred[i]:     #comparing each Pred label to gt label\n",
    "            err=err+1;         #increment the error counter\n",
    "\n",
    "    accuracy=(len(pred)-err)/(len(pred)) #calculate the accuracy ((totalpts-error)/totalpts)*100(for %)\n",
    "    accuracyPercentage=accuracy*100\n",
    "    return accuracyPercentage\n",
    "\n",
    "def cifar10_classifier_random(x): #This function will generate random label values from 0 to 9 for the given dataset.\n",
    "    Rand_labels=np.array([])\n",
    "    #print(\"=========== CALLING FUNC. cifar10_classifier_random Random Labels generator ===========\")\n",
    "    \n",
    "    for i in range(0,len(x)): #Runs a loop from 0 to the length of your dataset\n",
    "        Rand_label_val=randint(0, 9) #generates a list of random labels for that dataset. \n",
    "        Rand_labels = np.append(Rand_labels,Rand_label_val)\n",
    "        \n",
    "    #print(\"Predicted Label's Dimensions: \",Rand_labels.shape) #verify the shape of predicted labels\n",
    "    return Rand_labels                                      #return predicted variables.\n",
    "\n",
    "\n"
   ]
  },
  {
   "cell_type": "markdown",
   "id": "b0007495",
   "metadata": {},
   "source": [
    "**Random Classifier Accuracy**"
   ]
  },
  {
   "cell_type": "code",
   "execution_count": 4,
   "id": "df316918",
   "metadata": {
    "scrolled": false
   },
   "outputs": [
    {
     "name": "stdout",
     "output_type": "stream",
     "text": [
      "Random Classifier Accuracy for Predicted Labels in %:  9.908\n"
     ]
    }
   ],
   "source": [
    "Values=cifar10_classifier_random(X)  #Function predicts and returns an array full of Random Labels.\n",
    "Acc=class_acc(Values,Y) #Function Evaluates the Predicted labels and Actual labels to calculate the Accuracy %.\n",
    "print(\"Random Classifier Accuracy for Predicted Labels in %: \",Acc)"
   ]
  },
  {
   "cell_type": "markdown",
   "id": "5c6c3202",
   "metadata": {},
   "source": [
    "**Nearest Neighbor Classifier**"
   ]
  },
  {
   "cell_type": "code",
   "execution_count": 16,
   "id": "f3e34adb",
   "metadata": {},
   "outputs": [],
   "source": [
    "def Batch_ONN(X_train, Y_train, Query_points, batch_size=4):\n",
    "    output=[]\n",
    "    if len(Query_points) < batch_size:\n",
    "        batch_size = len(Query_points)\n",
    "        \n",
    "    for i in range(0,len(Query_points),batch_size):\n",
    "        Q_TP = Query_points[i:batch_size+i]  #Select a small subset of query points array to get their labels.\n",
    "\n",
    "        dst = np.linalg.norm(Q_TP[:, np.newaxis]-X_train, axis=2)  #calc. euclidean dist for whole array.\n",
    "\n",
    "        Y_Tile = np.tile(Y_train,(dst.shape[0],1)) #create multiple pairs of labels to attach with distances \n",
    "\n",
    "        dist_values = np.array((dst,Y_Tile)).transpose(1,2,0)  #Attach labels to distances\n",
    "\n",
    "        dist_values_min = np.argmin(dist_values, axis=1).transpose()[0] #Select minimum distances for each query image\n",
    "\n",
    "        #Access label values and store in output.\n",
    "        idx = np.arange(0,len(dist_values_min))                         \n",
    "        dist_values_min2 = np.array((idx, dist_values_min)).transpose()\n",
    "        dist_values_min2 = tuple(map(tuple, dist_values_min2))\n",
    "\n",
    "        #Access label values stored in tuple coordinates one by one. Max fetchable values will be equal to the batch size.\n",
    "        for j in dist_values_min2:       \n",
    "            data_label = dist_values[j]\n",
    "            output.append(data_label[1])\n",
    "\n",
    "    output=np.array(output)\n",
    "    return output"
   ]
  },
  {
   "cell_type": "code",
   "execution_count": 18,
   "id": "e1e70437",
   "metadata": {},
   "outputs": [
    {
     "name": "stdout",
     "output_type": "stream",
     "text": [
      "1-NN Classifier Accuracy for Predicted Labels in %:  100.0\n",
      "31.9 s ± 0 ns per loop (mean ± std. dev. of 1 run, 1 loop each)\n"
     ]
    }
   ],
   "source": [
    "%%timeit -r 1 -n 1\n",
    "#Running on small subset of data\n",
    "Q_TST2=Q_TST[:20]\n",
    "Q_Label2=Q_Label[:20]\n",
    "\n",
    "BATCH = Batch_ONN(X,Y,Q_TST2,1) #Function predicts and returns an array full of Labels by 1NN Classifier.\n",
    "BATCH_Acc = class_acc(BATCH,Q_Label2)      #Calculate accuracy % of this TEST dataset by \n",
    "                                        #Comparing Predicted Labels to Ground truth labels (Actual Test Labels 10K in total)\n",
    "print(\"1-NN Classifier Accuracy for Predicted Labels in %: \",BATCH_Acc)"
   ]
  }
 ],
 "metadata": {
  "kernelspec": {
   "display_name": "Python 3 (ipykernel)",
   "language": "python",
   "name": "python3"
  },
  "language_info": {
   "codemirror_mode": {
    "name": "ipython",
    "version": 3
   },
   "file_extension": ".py",
   "mimetype": "text/x-python",
   "name": "python",
   "nbconvert_exporter": "python",
   "pygments_lexer": "ipython3",
   "version": "3.8.11"
  }
 },
 "nbformat": 4,
 "nbformat_minor": 5
}
