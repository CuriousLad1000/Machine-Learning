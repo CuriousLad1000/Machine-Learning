{
 "cells": [
  {
   "cell_type": "markdown",
   "id": "d7ed9dd9",
   "metadata": {},
   "source": [
    "**Faster version of K-Nearest Nighbour Classifier**\n",
    "\n",
    "In this code, we implement one nearest neighbour classifier on CIFAR-10 Dataset and calculate its efficiency. This code makes certain changes especially in the way distance is calculated, This makes it very fast and saves computation time.\n",
    "\n",
    "https://www.cs.toronto.edu/~kriz/cifar.html\n",
    "\n"
   ]
  },
  {
   "cell_type": "code",
   "execution_count": null,
   "id": "18b16573",
   "metadata": {},
   "outputs": [],
   "source": []
  },
  {
   "cell_type": "code",
   "execution_count": 21,
   "id": "9e8527a8",
   "metadata": {},
   "outputs": [
    {
     "name": "stdout",
     "output_type": "stream",
     "text": [
      "All Datasets Loaded\n",
      "Dataset's Dimensions: (50000, 3072)\n",
      "Test Dataset's Dimensions: (10000, 3072)\n",
      "========================================================================\n"
     ]
    }
   ],
   "source": [
    "import pickle\n",
    "import numpy as np\n",
    "from random import randint\n",
    "import matplotlib.pyplot as plt\n",
    "from random import random\n",
    "from sklearn.model_selection import train_test_split\n",
    "import pandas as pd\n",
    "\n",
    "def unpickle(file):\n",
    "    with open(file, 'rb') as f:\n",
    "        dict = pickle.load(f, encoding=\"latin1\")\n",
    "    return dict\n",
    "\n",
    "datadict_tst = unpickle(r'D:\\pers\\DEPLOY\\Machine Learning\\Datasets\\cifar-10\\test_batch') #Loads all unpickled raw Test data in datadict_tst variable\n",
    "\n",
    "labeldict = unpickle(r'D:\\pers\\DEPLOY\\Machine Learning\\Datasets\\cifar-10\\batches.meta')\n",
    "label_names = labeldict[\"label_names\"]\n",
    "\n",
    "def Load_Data(Data_sets):\n",
    "    LBL=[]\n",
    "    for i in range(1, Data_sets+1):\n",
    "\n",
    "        path='D:\\pers\\DEPLOY\\Machine Learning\\Datasets\\cifar-10\\data_batch_{}'.format(i)\n",
    "        Load = unpickle(r'{}'.format(path))\n",
    "        DAT=Load[\"data\"]           \n",
    "        LBL+=Load[\"labels\"]\n",
    "        if i == 1:           \n",
    "            Da=Load[\"data\"]           \n",
    "        else:\n",
    "            Da=np.vstack([Da, DAT])           \n",
    "#    print(\"Data Shape:\",Da.shape)\n",
    "    LBL = np.array(LBL)\n",
    "#    print(\"Label Shape:\",LBL.shape)\n",
    "    return Da,LBL\n",
    "\n",
    "\n",
    "X,Y=Load_Data(5) #Load All 5 data sets into X1 and Labels in Y\n",
    "X = X.astype(\"float32\") #Reshape the 10K images into 3072. (Flattened)\n",
    "\n",
    "Q1a = datadict_tst[\"data\"]\n",
    "Q_Label = datadict_tst[\"labels\"]\n",
    "\n",
    "Q_TST = Q1a.astype(\"float32\") #Reshape the 10K images into 3072. (for RGBs)  \n",
    "Q_Label = np.array(Q_Label)  ## contains class numbers for each image to tell which img belongs to which class\n",
    "\n",
    "print('All Datasets Loaded')\n",
    "print(\"Dataset's Dimensions:\" ,X.shape)\n",
    "print(\"Test Dataset's Dimensions:\" ,Q_TST.shape)\n",
    "\n",
    "print('========================================================================')\n",
    "\n"
   ]
  },
  {
   "cell_type": "markdown",
   "id": "41fea85a",
   "metadata": {},
   "source": [
    "The Information in **X[0]** is given as a single vector of 3072. The color information is encoded as all reds together, all greens together and all blues together. so, 3 images of red,green,blue (3,32,32), we transpose it and re-arrange the channels to get correct image in order of (32,32,3)"
   ]
  },
  {
   "cell_type": "code",
   "execution_count": 2,
   "id": "1edea9c3",
   "metadata": {},
   "outputs": [
    {
     "name": "stdout",
     "output_type": "stream",
     "text": [
      "Shape before:  (3072,)\n",
      "Shape after:  (32, 32, 3)\n"
     ]
    },
    {
     "data": {
      "text/plain": [
       "<matplotlib.image.AxesImage at 0x1ae0a4d2250>"
      ]
     },
     "execution_count": 2,
     "metadata": {},
     "output_type": "execute_result"
    },
    {
     "data": {
      "image/png": "[encoded data removed]",
      "text/plain": [
       "<Figure size 432x288 with 1 Axes>"
      ]
     },
     "metadata": {
      "needs_background": "light"
     },
     "output_type": "display_data"
    }
   ],
   "source": [
    "lbl=Y[0]\n",
    "print(\"Shape before: \", X[0].shape)\n",
    "img=X[0].reshape(3,32,32).transpose(1,2,0).astype(\"int32\")  #0 - channels at last, 1 - 32 width first, 2 - 32 height second, total (32,32,3)\n",
    "print(\"Shape after: \", img.shape)\n",
    "plt.title(f\"label={label_names[lbl]} (num {lbl})\")\n",
    "plt.imshow(img)"
   ]
  },
  {
   "cell_type": "code",
   "execution_count": null,
   "id": "43a85ce8",
   "metadata": {},
   "outputs": [],
   "source": []
  },
  {
   "cell_type": "markdown",
   "id": "189557e6",
   "metadata": {},
   "source": [
    "Define Random classifier and accuracy calculation function.\n",
    "\n",
    "Random classifier will randomly try to guess the classes of the test dataset. Considering we have 10 classes, the random classifier has at best 10% chance of correctly classifying the images. So, anything we build has to be better than 10% baseline to be considered as better."
   ]
  },
  {
   "cell_type": "code",
   "execution_count": 3,
   "id": "8a6cfdf8",
   "metadata": {},
   "outputs": [
    {
     "name": "stdout",
     "output_type": "stream",
     "text": [
      "accuracy and Random functions Loaded...\n"
     ]
    }
   ],
   "source": [
    "def class_acc(pred,gt): #This function will compare the Labels that were predicted using any \n",
    "                        #classifier (such as Random or 1NN) to Original labels that came with dataset (our ground truth)\n",
    "                        #and will give us an accuracy estimate of our program.\n",
    "    err=0            #will store number of mismatches\n",
    "    accuracy=0          #wil be used to calculate accuracy\n",
    "    for i in range(0,len(gt)): #Loop to iterate through all ground truth variables and compare with pred.\n",
    "        if gt[i]!=pred[i]:     #comparing each Pred label to gt label\n",
    "            err=err+1;         #increment the error counter\n",
    "\n",
    "    accuracy=(len(pred)-err)/(len(pred)) #calculate the accuracy ((totalpts-error)/totalpts)*100(for %)\n",
    "    accuracyPercentage=accuracy*100\n",
    "    return accuracyPercentage\n",
    "\n",
    "def cifar10_classifier_random(x): #This function will generate random label values from 0 to 9 for the given dataset.\n",
    "    Rand_labels=np.array([])\n",
    "    #print(\"=========== CALLING FUNC. cifar10_classifier_random Random Labels generator ===========\")\n",
    "    \n",
    "    for i in range(0,len(x)): #Runs a loop from 0 to the length of your dataset\n",
    "        Rand_label_val=randint(0, 9) #generates a list of random labels for that dataset. \n",
    "        Rand_labels = np.append(Rand_labels,Rand_label_val)\n",
    "        \n",
    "    #print(\"Predicted Label's Dimensions: \",Rand_labels.shape) #verify the shape of predicted labels\n",
    "    return Rand_labels                                      #return predicted variables.\n",
    "\n",
    "\n",
    "print(\"accuracy and Random functions Loaded...\")"
   ]
  },
  {
   "cell_type": "markdown",
   "id": "3ca67dae",
   "metadata": {},
   "source": [
    "**Random Classifier Accuracy**"
   ]
  },
  {
   "cell_type": "code",
   "execution_count": 4,
   "id": "d7594a9c",
   "metadata": {
    "scrolled": false
   },
   "outputs": [
    {
     "name": "stdout",
     "output_type": "stream",
     "text": [
      "Random Classifier Accuracy for Predicted Labels in %:  10.186\n"
     ]
    }
   ],
   "source": [
    "Values=cifar10_classifier_random(X)  #Function predicts and returns an array full of Random Labels.\n",
    "Acc=class_acc(Values,Y) #Function Evaluates the Predicted labels and Actual labels to calculate the Accuracy %.\n",
    "print(\"Random Classifier Accuracy for Predicted Labels in %: \",Acc)"
   ]
  },
  {
   "cell_type": "markdown",
   "id": "670b6390",
   "metadata": {},
   "source": [
    "KNN function will compare the query each datapoint with each datapoint in our database(X) and find the top K closest matches. Distances are sorted in ascending order and top-K are taken. Then we find the ones that are unique and their frequency. Return the Label which shows the highest frequency of occurance. "
   ]
  },
  {
   "cell_type": "code",
   "execution_count": 5,
   "id": "55075312",
   "metadata": {},
   "outputs": [
    {
     "name": "stdout",
     "output_type": "stream",
     "text": [
      "KNN Function Loaded...\n"
     ]
    }
   ],
   "source": [
    "\n",
    "print(\"KNN Function Loaded...\")"
   ]
  },
  {
   "cell_type": "code",
   "execution_count": null,
   "id": "d42e4d44",
   "metadata": {},
   "outputs": [],
   "source": []
  },
  {
   "cell_type": "code",
   "execution_count": 19,
   "id": "c490e702",
   "metadata": {},
   "outputs": [
    {
     "name": "stdout",
     "output_type": "stream",
     "text": [
      "Fast KNN loaded\n"
     ]
    }
   ],
   "source": [
    "#used to rearange values that come out of np.unique. \n",
    "#np.unique sorts and changes the order of our values in matrix which is undesirable.\n",
    "\n",
    "def srt(Values):\n",
    "    if Values.shape[1] > 1:\n",
    "        Values = Values[Values[:,1].argsort()]\n",
    "        Values = Values[:, Values[0, :].argsort()]\n",
    "    else:\n",
    "        Values = Values[Values[:,0].argsort()]\n",
    "\n",
    "    return Values\n",
    "\n",
    "\n",
    "\n",
    "def dist2(x, y, squared=True):\n",
    "    x = np.asarray(x, dtype=float)\n",
    "    y = np.asarray(y, dtype=float)\n",
    "   \n",
    "    xx = np.sum(x * x, axis=1, dtype=float)[:, np.newaxis]\n",
    "    yy = np.sum(y * y, axis=1, dtype=float)\n",
    "\n",
    "    distances = -2 * np.dot(x, y.T)\n",
    "\n",
    "    distances += xx\n",
    "    distances += yy\n",
    "    \n",
    "    if squared==True:\n",
    "        \n",
    "        return np.sqrt(distances)\n",
    "    \n",
    "\n",
    "    return distances\n",
    "\n",
    "\n",
    "def fast_KNN(Xa,Ya,Qp,K):\n",
    "    #K=3\n",
    "    KNN_labels=np.array([])\n",
    "    dist_values = []\n",
    "\n",
    "    dist_values = dist2(Qp,Xa, squared=True) #call function to calc. dist b/w Qp array and Xp array datapoints\n",
    "    #print(dist_values,dist_values.shape)\n",
    "    #print()\n",
    "\n",
    "    #Append Labels to all Query Image distances\n",
    "\n",
    "    Ya2 = np.tile(Ya, (dist_values.shape[0],1))\n",
    "    #print(Ya2,Ya2.shape)\n",
    "    #print()\n",
    "\n",
    "    dist_values = np.stack([dist_values, Ya2]).transpose(1,2,0)\n",
    "    #print(dist_values,dist_values.shape)\n",
    "    #print()\n",
    "\n",
    "    #Get the K Nearest neighbours for each image and fetch their estimated class label\n",
    "\n",
    "    for i in range(len(dist_values)):  #Process one Query image at a time. loop length = Query array datapoints.\n",
    "\n",
    "        values3 = sorted(dist_values[i], key = lambda x:x[0])[:K]  #Sort distances\n",
    "        values3 = np.array(values3)                                #Convert to array\n",
    "        #print(values3)\n",
    "\n",
    "        dist_values3 = np.unique(values3[:,1],return_counts=True, return_index=True)  #return the frequencies of labels in K distances. \n",
    "        dist_values3 = np.array(dist_values3)                                         #(which class occurs how many times...)\n",
    "        #print(dist_values3)\n",
    "\n",
    "        dist_values3 = srt(dist_values3) #call function to rearange the values returned by np.uniique. \n",
    "                                         #Order of returned array: R0 - index values; R1 - Frequency of Labels; R2 - Labels.\n",
    "        #print(dist_values3)\n",
    "\n",
    "        index=dist_values3[1].argmax()     #Get the index of ones which occurs maximum number of times.\n",
    "        #print(index)   \n",
    "\n",
    "        output=dist_values3[2][index]      #Get that class Label value.\n",
    "        #print(output) \n",
    "\n",
    "        KNN_labels = np.append(KNN_labels,output)  #Append to list\n",
    "\n",
    "    return KNN_labels\n",
    "\n",
    "print(\"Fast KNN loaded\")\n"
   ]
  },
  {
   "cell_type": "markdown",
   "id": "9020c319",
   "metadata": {},
   "source": [
    "## Testing the speed of Algo\n",
    "\n",
    "**Fast KNN**"
   ]
  },
  {
   "cell_type": "markdown",
   "id": "8a21549f",
   "metadata": {},
   "source": [
    "**Let's run on a smaller batch for multiple K values.**\n",
    "\n",
    "First, let's create a smaller datasets using traintest split with equal class distributions."
   ]
  },
  {
   "cell_type": "code",
   "execution_count": 7,
   "id": "220c505e",
   "metadata": {},
   "outputs": [
    {
     "name": "stdout",
     "output_type": "stream",
     "text": [
      "Small Dataset's Dimensions: (6000, 3072) class Dim:  (6000,)\n",
      "Small Test Dataset's Dimensions: (2000, 3072) class Dim:  (2000,)\n"
     ]
    }
   ],
   "source": [
    "X_small, aa, Y_small, bb = train_test_split(X, Y, test_size=44000, random_state=0, stratify=Y)\n",
    "print(\"Small Dataset's Dimensions:\" ,X_small.shape,\"class Dim: \", Y_small.shape)\n",
    "\n",
    "Q_TST_small, cc, Q_Label_small, dd = train_test_split(Q_TST, Q_Label, test_size=8000, random_state=0, stratify=Q_Label)\n",
    "print(\"Small Test Dataset's Dimensions:\" ,Q_TST_small.shape,\"class Dim: \", Q_Label_small.shape)\n"
   ]
  },
  {
   "cell_type": "code",
   "execution_count": 20,
   "id": "dcbe5851",
   "metadata": {},
   "outputs": [
    {
     "name": "stdout",
     "output_type": "stream",
     "text": [
      "K=1 Accuracy in %:  25.0\n",
      "K=1 Accuracy in %:  25.0\n",
      "10.3 s ± 0 ns per loop (mean ± std. dev. of 1 run, 2 loops each)\n"
     ]
    }
   ],
   "source": [
    "%%timeit -r 1 -n 2\n",
    "k=1\n",
    "BATCH = fast_KNN(X_small,Y_small,Q_TST_small,k)\n",
    "BATCH_Acc = class_acc(BATCH,Q_Label_small)\n",
    "print(\"K={} Accuracy in %: \".format(k), BATCH_Acc)"
   ]
  },
  {
   "cell_type": "markdown",
   "id": "773b64a4",
   "metadata": {},
   "source": [
    "### K Nearest Neighbour Classifier"
   ]
  },
  {
   "cell_type": "markdown",
   "id": "c05220e9",
   "metadata": {},
   "source": [
    "**let's verify their distributions...**"
   ]
  },
  {
   "cell_type": "code",
   "execution_count": 10,
   "id": "1ce8f0e2",
   "metadata": {
    "scrolled": true
   },
   "outputs": [
    {
     "name": "stdout",
     "output_type": "stream",
     "text": [
      "Small Training dataset...\n",
      "0    600\n",
      "1    600\n",
      "2    600\n",
      "3    600\n",
      "4    600\n",
      "5    600\n",
      "6    600\n",
      "7    600\n",
      "8    600\n",
      "9    600\n",
      "dtype: int64\n",
      "\n",
      "Total datapoints 6000\n",
      "\n",
      "\n",
      "Small Test dataset...\n",
      "0    200\n",
      "1    200\n",
      "2    200\n",
      "3    200\n",
      "4    200\n",
      "5    200\n",
      "6    200\n",
      "7    200\n",
      "8    200\n",
      "9    200\n",
      "dtype: int64\n",
      "\n",
      "Total datapoints 2000\n"
     ]
    }
   ],
   "source": [
    "print(\"Small Training dataset...\")\n",
    "df_Y_Full_New = pd.DataFrame(Y_small)\n",
    "print(df_Y_Full_New.value_counts(sort=True))\n",
    "print()\n",
    "print(\"Total datapoints\" , Y_small.shape[0])\n",
    "print()\n",
    "print()\n",
    "print(\"Small Test dataset...\")\n",
    "df_Y_Full_New = pd.DataFrame(Q_Label_small)\n",
    "print(df_Y_Full_New.value_counts(sort=True))\n",
    "print()\n",
    "print(\"Total datapoints\" , Q_Label_small.shape[0])"
   ]
  },
  {
   "cell_type": "code",
   "execution_count": 22,
   "id": "673df659",
   "metadata": {},
   "outputs": [
    {
     "name": "stdout",
     "output_type": "stream",
     "text": [
      "K=1 Accuracy in %:  31.61\n",
      "K=2 Accuracy in %:  31.790000000000003\n",
      "K=3 Accuracy in %:  29.29\n",
      "K=4 Accuracy in %:  27.169999999999998\n",
      "K=5 Accuracy in %:  25.21\n",
      "K=6 Accuracy in %:  23.05\n",
      "K=7 Accuracy in %:  20.68\n",
      "K=8 Accuracy in %:  19.509999999999998\n",
      "K=9 Accuracy in %:  16.93\n",
      "K=10 Accuracy in %:  15.1\n",
      "K=11 Accuracy in %:  14.04\n",
      "K=12 Accuracy in %:  13.04\n",
      "K=13 Accuracy in %:  12.29\n",
      "K=14 Accuracy in %:  12.09\n",
      "K=15 Accuracy in %:  11.97\n"
     ]
    }
   ],
   "source": [
    "Accuracy_List=[]\n",
    "\n",
    "for k in range (1,16):\n",
    "    \n",
    "    BATCH = fast_KNN(X,Y,Q_TST,k)  #Running on full data\n",
    "    BATCH_Acc = class_acc(BATCH,Q_Label)\n",
    "    Accuracy_List.append(BATCH_Acc)\n",
    "    print(\"K={} Accuracy in %: \".format(k), BATCH_Acc)"
   ]
  },
  {
   "cell_type": "markdown",
   "id": "06274fff",
   "metadata": {},
   "source": [
    "**Plot the accuracy data over Multiple K values**"
   ]
  },
  {
   "cell_type": "code",
   "execution_count": 23,
   "id": "89a39f08",
   "metadata": {},
   "outputs": [
    {
     "name": "stdout",
     "output_type": "stream",
     "text": [
      "[31.61, 31.790000000000003, 29.29, 27.169999999999998, 25.21, 23.05, 20.68, 19.509999999999998, 16.93, 15.1, 14.04, 13.04, 12.29, 12.09, 11.97]\n"
     ]
    },
    {
     "data": {
      "image/png": "[encoded data removed]",
      "text/plain": [
       "<Figure size 432x288 with 1 Axes>"
      ]
     },
     "metadata": {
      "needs_background": "light"
     },
     "output_type": "display_data"
    }
   ],
   "source": [
    "print(Accuracy_List)\n",
    "K_values = np.arange(1,len(Accuracy_List)+1)\n",
    "plt.figure()\n",
    "plt.plot(K_values,Accuracy_List,'--')\n",
    "plt.show()"
   ]
  }
 ],
 "metadata": {
  "kernelspec": {
   "display_name": "Python 3 (ipykernel)",
   "language": "python",
   "name": "python3"
  },
  "language_info": {
   "codemirror_mode": {
    "name": "ipython",
    "version": 3
   },
   "file_extension": ".py",
   "mimetype": "text/x-python",
   "name": "python",
   "nbconvert_exporter": "python",
   "pygments_lexer": "ipython3",
   "version": "3.8.11"
  }
 },
 "nbformat": 4,
 "nbformat_minor": 5
}
