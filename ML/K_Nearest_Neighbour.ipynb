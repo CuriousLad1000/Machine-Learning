{
 "cells": [
  {
   "cell_type": "markdown",
   "id": "d7ed9dd9",
   "metadata": {},
   "source": [
    "**K-Nearest Nighbour Classifier**\n",
    "\n",
    "In this code, we implement one nearest neighbour classifier on CIFAR-10 Dataset and calculate its efficiency.\n",
    "\n",
    "https://www.cs.toronto.edu/~kriz/cifar.html\n",
    "\n"
   ]
  },
  {
   "cell_type": "code",
   "execution_count": null,
   "id": "18b16573",
   "metadata": {},
   "outputs": [],
   "source": []
  },
  {
   "cell_type": "code",
   "execution_count": 1,
   "id": "9e8527a8",
   "metadata": {},
   "outputs": [
    {
     "name": "stdout",
     "output_type": "stream",
     "text": [
      "All Datasets Loaded\n",
      "Dataset's Dimensions: (50000, 3072)\n",
      "Test Dataset's Dimensions: (10000, 3072)\n",
      "========================================================================\n"
     ]
    }
   ],
   "source": [
    "import pickle\n",
    "import numpy as np\n",
    "from random import randint\n",
    "import matplotlib.pyplot as plt\n",
    "from random import random\n",
    "from sklearn.model_selection import train_test_split\n",
    "import pandas as pd\n",
    "\n",
    "def unpickle(file):\n",
    "    with open(file, 'rb') as f:\n",
    "        dict = pickle.load(f, encoding=\"latin1\")\n",
    "    return dict\n",
    "\n",
    "datadict_tst = unpickle(r'cifar-10\\test_batch') #Loads all unpickled raw Test data in datadict_tst variable\n",
    "\n",
    "labeldict = unpickle(r'cifar-10\\batches.meta')\n",
    "label_names = labeldict[\"label_names\"]\n",
    "\n",
    "def Load_Data(Data_sets):\n",
    "    LBL=[]\n",
    "    for i in range(1, Data_sets+1):\n",
    "\n",
    "        path='cifar-10\\data_batch_{}'.format(i)\n",
    "        Load = unpickle(r'{}'.format(path))\n",
    "        DAT=Load[\"data\"]           \n",
    "        LBL+=Load[\"labels\"]\n",
    "        if i == 1:           \n",
    "            Da=Load[\"data\"]           \n",
    "        else:\n",
    "            Da=np.vstack([Da, DAT])           \n",
    "#    print(\"Data Shape:\",Da.shape)\n",
    "    LBL = np.array(LBL)\n",
    "#    print(\"Label Shape:\",LBL.shape)\n",
    "    return Da,LBL\n",
    "\n",
    "\n",
    "X,Y=Load_Data(5) #Load All 5 data sets into X1 and Labels in Y\n",
    "X = X.astype(\"int32\") #Reshape the 10K images into 3072. (Flattened)\n",
    "\n",
    "Q1a = datadict_tst[\"data\"]\n",
    "Q_Label = datadict_tst[\"labels\"]\n",
    "\n",
    "Q_TST = Q1a.astype(\"int32\") #Reshape the 10K images into 3072. (for RGBs)  \n",
    "Q_Label = np.array(Q_Label)  ## contains class numbers for each image to tell which img belongs to which class\n",
    "\n",
    "print('All Datasets Loaded')\n",
    "print(\"Dataset's Dimensions:\" ,X.shape)\n",
    "print(\"Test Dataset's Dimensions:\" ,Q_TST.shape)\n",
    "\n",
    "print('========================================================================')\n",
    "\n"
   ]
  },
  {
   "cell_type": "markdown",
   "id": "41fea85a",
   "metadata": {},
   "source": [
    "The Information in **X[0]** is given as a single vector of 3072. The color information is encoded as all reds together, all greens together and all blues together. so, 3 images of red,green,blue (3,32,32), we transpose it and re-arrange the channels to get correct image in order of (32,32,3)"
   ]
  },
  {
   "cell_type": "code",
   "execution_count": 2,
   "id": "1edea9c3",
   "metadata": {},
   "outputs": [
    {
     "name": "stdout",
     "output_type": "stream",
     "text": [
      "Shape before:  (3072,)\n",
      "Shape after:  (32, 32, 3)\n"
     ]
    },
    {
     "data": {
      "text/plain": [
       "<matplotlib.image.AxesImage at 0x22403503b80>"
      ]
     },
     "execution_count": 2,
     "metadata": {},
     "output_type": "execute_result"
    },
    {
     "data": {
      "image/png": "[encoded data removed]",
      "text/plain": [
       "<Figure size 432x288 with 1 Axes>"
      ]
     },
     "metadata": {
      "needs_background": "light"
     },
     "output_type": "display_data"
    }
   ],
   "source": [
    "lbl=Y[0]\n",
    "print(\"Shape before: \", X[0].shape)\n",
    "img=X[0].reshape(3,32,32).transpose(1,2,0)  #0 - channels at last, 1 - 32 width first, 2 - 32 height second, total (32,32,3)\n",
    "print(\"Shape after: \", img.shape)\n",
    "plt.title(f\"label={label_names[lbl]} (num {lbl})\")\n",
    "plt.imshow(img)"
   ]
  },
  {
   "cell_type": "code",
   "execution_count": null,
   "id": "43a85ce8",
   "metadata": {},
   "outputs": [],
   "source": []
  },
  {
   "cell_type": "markdown",
   "id": "189557e6",
   "metadata": {},
   "source": [
    "Define Random classifier and accuracy calculation function.\n",
    "\n",
    "Random classifier will randomly try to guess the classes of the test dataset. Considering we have 10 classes, the random classifier has at best 10% chance of correctly classifying the images. So, anything we build has to be better than 10% baseline to be considered as better."
   ]
  },
  {
   "cell_type": "code",
   "execution_count": 3,
   "id": "8a6cfdf8",
   "metadata": {},
   "outputs": [
    {
     "name": "stdout",
     "output_type": "stream",
     "text": [
      "accuracy and Random functions Loaded...\n"
     ]
    }
   ],
   "source": [
    "def class_acc(pred,gt): #This function will compare the Labels that were predicted using any \n",
    "                        #classifier (such as Random or 1NN) to Original labels that came with dataset (our ground truth)\n",
    "                        #and will give us an accuracy estimate of our program.\n",
    "    err=0            #will store number of mismatches\n",
    "    accuracy=0          #wil be used to calculate accuracy\n",
    "    for i in range(0,len(gt)): #Loop to iterate through all ground truth variables and compare with pred.\n",
    "        if gt[i]!=pred[i]:     #comparing each Pred label to gt label\n",
    "            err=err+1;         #increment the error counter\n",
    "\n",
    "    accuracy=(len(pred)-err)/(len(pred)) #calculate the accuracy ((totalpts-error)/totalpts)*100(for %)\n",
    "    accuracyPercentage=accuracy*100\n",
    "    return accuracyPercentage\n",
    "\n",
    "def cifar10_classifier_random(x): #This function will generate random label values from 0 to 9 for the given dataset.\n",
    "    Rand_labels=np.array([])\n",
    "    #print(\"=========== CALLING FUNC. cifar10_classifier_random Random Labels generator ===========\")\n",
    "    \n",
    "    for i in range(0,len(x)): #Runs a loop from 0 to the length of your dataset\n",
    "        Rand_label_val=randint(0, 9) #generates a list of random labels for that dataset. \n",
    "        Rand_labels = np.append(Rand_labels,Rand_label_val)\n",
    "        \n",
    "    #print(\"Predicted Label's Dimensions: \",Rand_labels.shape) #verify the shape of predicted labels\n",
    "    return Rand_labels                                      #return predicted variables.\n",
    "\n",
    "\n",
    "print(\"accuracy and Random functions Loaded...\")"
   ]
  },
  {
   "cell_type": "markdown",
   "id": "3ca67dae",
   "metadata": {},
   "source": [
    "**Random Classifier Accuracy**"
   ]
  },
  {
   "cell_type": "code",
   "execution_count": 4,
   "id": "d7594a9c",
   "metadata": {
    "scrolled": false
   },
   "outputs": [
    {
     "name": "stdout",
     "output_type": "stream",
     "text": [
      "Random Classifier Accuracy for Predicted Labels in %:  10.298\n"
     ]
    }
   ],
   "source": [
    "Values=cifar10_classifier_random(X)  #Function predicts and returns an array full of Random Labels.\n",
    "Acc=class_acc(Values,Y) #Function Evaluates the Predicted labels and Actual labels to calculate the Accuracy %.\n",
    "print(\"Random Classifier Accuracy for Predicted Labels in %: \",Acc)"
   ]
  },
  {
   "cell_type": "markdown",
   "id": "342c945c",
   "metadata": {},
   "source": [
    "KNN function will compare the query each datapoint with each datapoint in our database(X) and find the top K closest matches. Distances are sorted in ascending order and top-K are taken. Then we find the ones that are unique and their frequency. Return the Label which shows the highest frequency of occurance. "
   ]
  },
  {
   "cell_type": "code",
   "execution_count": 5,
   "id": "55075312",
   "metadata": {},
   "outputs": [
    {
     "name": "stdout",
     "output_type": "stream",
     "text": [
      "KNN Function Loaded...\n"
     ]
    }
   ],
   "source": [
    "def dist(A,B):                               #manual Euclidean method (not used to increase the speed of exec.)\n",
    "    return np.sqrt(np.sum(np.square(A-B) ))  #query pt. array - data pt. array #takes 1.4 sec per image on 50k dataset\n",
    "\n",
    "def dist1(A,B):\n",
    "    return np.sqrt( np.sum( (A**2) - (2*A*B) + (B**2) ) )  #Slow, takes avg. 2.48 sec per image on 50k dataset\n",
    "\n",
    "\n",
    "\n",
    "def batch_KNN(Xa,Ya,Qa,K): #Xa array carries dataset Ya array carries matching label values for Xa array, \n",
    "                           #Qa is the array; K is how many nearest neighbours to consider before deciding the class.\n",
    "    \n",
    "    #print(\"=========== Batch_KNN Classifier K={} ===========\".format(K))\n",
    "    #print(\"Query Dataset's Shape is: \",Qa.shape) #verify the shape of Qa TEST dataset\n",
    "    \n",
    "    KNN_labels=np.array([])\n",
    "    for i in range(0,len(Qa)): #Runs a loop from 0 to the length of your TEST dataset\n",
    "\n",
    "        OP = KNN(Xa,Ya,Qa[i],K) #Run function KNN to calculate the values of Predicted Labels\n",
    "        KNN_labels = np.append(KNN_labels,OP)\n",
    "        \n",
    "    return KNN_labels                                      #return predicted variables.   \n",
    "\n",
    "\n",
    "\n",
    "def KNN(Xp,Yp,Qp,K):  #Xp array carries data pts Yp array carries matching label values for Xp array, Qp is test point to match\n",
    "    \n",
    "    m = Xp.shape[0]  #to check how many data pts we have\n",
    "    dist_values = []\n",
    "    \n",
    "    for i in range(m): #run as many times as data pts in Xp array\n",
    "        dst = dist(Qp,Xp[i]) #call function to calc. dist b/w Qp and Xp[i]th object in array\n",
    "        dist_values.append((dst,Yp[i])) #add distance and mark with Yp array (containing labels)\n",
    "    \n",
    "    dist_values2 = sorted(dist_values,key = lambda x:x[0])[:K] #sort distances from smallest to largest, save first K values\n",
    "    dist_values2=np.array(dist_values2)                        #Convert to array\n",
    "    dist_values3=np.unique(dist_values2[:,1],return_counts=True)  #return the frequencies of labels in K distances. \n",
    "                                                                  #(which class occurs howmany times...)\n",
    "    index=dist_values3[1].argmax()                                #Get the index of ones which occurs maximum number of times.\n",
    "    output=dist_values3[0][index]                                 #Get that class Label value.\n",
    "    \n",
    "    return output\n",
    "\n",
    "print(\"KNN Function Loaded...\")"
   ]
  },
  {
   "cell_type": "markdown",
   "id": "9020c319",
   "metadata": {},
   "source": [
    "**Testing the speed of Algo**\n",
    "\n",
    "**Regular Batch KNN**"
   ]
  },
  {
   "cell_type": "code",
   "execution_count": 12,
   "id": "ebb9a880",
   "metadata": {},
   "outputs": [
    {
     "name": "stdout",
     "output_type": "stream",
     "text": [
      "Small Dataset's Dimensions: (6000, 3072) class Dim:  (6000,)\n",
      "Small Test Dataset's Dimensions: (2000, 3072) class Dim:  (2000,)\n"
     ]
    }
   ],
   "source": [
    "X_small, aa, Y_small, bb = train_test_split(X, Y, test_size=44000, random_state=0, stratify=Y)\n",
    "print(\"Small Dataset's Dimensions:\" ,X_small.shape,\"class Dim: \", Y_small.shape)\n",
    "\n",
    "Q_TST_small, cc, Q_Label_small, dd = train_test_split(Q_TST, Q_Label, test_size=8000, random_state=0, stratify=Q_Label)\n",
    "print(\"Small Test Dataset's Dimensions:\" ,Q_TST_small.shape,\"class Dim: \", Q_Label_small.shape)\n"
   ]
  },
  {
   "cell_type": "code",
   "execution_count": 13,
   "id": "dcbe5851",
   "metadata": {},
   "outputs": [
    {
     "name": "stdout",
     "output_type": "stream",
     "text": [
      "K=1 Accuracy in %:  28.050000000000004\n",
      "K=1 Accuracy in %:  28.050000000000004\n",
      "3min 32s ± 0 ns per loop (mean ± std. dev. of 1 run, 2 loops each)\n"
     ]
    }
   ],
   "source": [
    "%%timeit -r 1 -n 2\n",
    "k=1\n",
    "BATCH = batch_KNN(X_small, Y_small, Q_TST_small, k)\n",
    "BATCH_Acc = class_acc(BATCH,Q_Label_small)\n",
    "print(\"K={} Accuracy in %: \".format(k), BATCH_Acc)"
   ]
  },
  {
   "cell_type": "code",
   "execution_count": null,
   "id": "9b64f6a9",
   "metadata": {},
   "outputs": [],
   "source": []
  },
  {
   "cell_type": "code",
   "execution_count": null,
   "id": "7bb6ff87",
   "metadata": {},
   "outputs": [],
   "source": []
  },
  {
   "cell_type": "markdown",
   "id": "773b64a4",
   "metadata": {},
   "source": [
    "### K Nearest Neighbour Classifier"
   ]
  },
  {
   "cell_type": "markdown",
   "id": "00e541a5",
   "metadata": {},
   "source": [
    "**Let's run on a smaller batch for multiple K values.**\n",
    "\n",
    "First, let's create a smaller datasets using traintest split with equal class distributions."
   ]
  },
  {
   "cell_type": "code",
   "execution_count": 7,
   "id": "cc80cd3b",
   "metadata": {},
   "outputs": [
    {
     "name": "stdout",
     "output_type": "stream",
     "text": [
      "Small Dataset's Dimensions: (6000, 3072) class Dim:  (6000,)\n",
      "Small Test Dataset's Dimensions: (2000, 3072) class Dim:  (2000,)\n"
     ]
    }
   ],
   "source": [
    "X_small, aa, Y_small, bb = train_test_split(X, Y, test_size=44000, random_state=0, stratify=Y)\n",
    "print(\"Small Dataset's Dimensions:\" ,X_small.shape,\"class Dim: \", Y_small.shape)\n",
    "\n",
    "Q_TST_small, cc, Q_Label_small, dd = train_test_split(Q_TST, Q_Label, test_size=8000, random_state=0, stratify=Q_Label)\n",
    "print(\"Small Test Dataset's Dimensions:\" ,Q_TST_small.shape,\"class Dim: \", Q_Label_small.shape)"
   ]
  },
  {
   "cell_type": "markdown",
   "id": "8934fbd4",
   "metadata": {},
   "source": [
    "**let's verify their distributions...**"
   ]
  },
  {
   "cell_type": "code",
   "execution_count": 8,
   "id": "e775ca95",
   "metadata": {
    "scrolled": true
   },
   "outputs": [
    {
     "name": "stdout",
     "output_type": "stream",
     "text": [
      "Small Training dataset...\n",
      "0    600\n",
      "1    600\n",
      "2    600\n",
      "3    600\n",
      "4    600\n",
      "5    600\n",
      "6    600\n",
      "7    600\n",
      "8    600\n",
      "9    600\n",
      "dtype: int64\n",
      "\n",
      "Total datapoints 6000\n",
      "\n",
      "\n",
      "Small Test dataset...\n",
      "0    200\n",
      "1    200\n",
      "2    200\n",
      "3    200\n",
      "4    200\n",
      "5    200\n",
      "6    200\n",
      "7    200\n",
      "8    200\n",
      "9    200\n",
      "dtype: int64\n",
      "\n",
      "Total datapoints 2000\n"
     ]
    }
   ],
   "source": [
    "print(\"Small Training dataset...\")\n",
    "df_Y_Full_New = pd.DataFrame(Y_small)\n",
    "print(df_Y_Full_New.value_counts(sort=True))\n",
    "print()\n",
    "print(\"Total datapoints\" , Y_small.shape[0])\n",
    "print()\n",
    "print()\n",
    "print(\"Small Test dataset...\")\n",
    "df_Y_Full_New = pd.DataFrame(Q_Label_small)\n",
    "print(df_Y_Full_New.value_counts(sort=True))\n",
    "print()\n",
    "print(\"Total datapoints\" , Q_Label_small.shape[0])"
   ]
  },
  {
   "cell_type": "code",
   "execution_count": 9,
   "id": "bac683e7",
   "metadata": {},
   "outputs": [
    {
     "name": "stdout",
     "output_type": "stream",
     "text": [
      "K=1 Accuracy in %:  28.050000000000004\n",
      "K=2 Accuracy in %:  24.55\n",
      "K=3 Accuracy in %:  26.150000000000002\n",
      "K=4 Accuracy in %:  26.85\n",
      "K=5 Accuracy in %:  28.449999999999996\n",
      "K=6 Accuracy in %:  28.9\n",
      "K=7 Accuracy in %:  27.700000000000003\n",
      "K=8 Accuracy in %:  28.749999999999996\n",
      "K=9 Accuracy in %:  28.4\n",
      "K=10 Accuracy in %:  28.799999999999997\n",
      "K=11 Accuracy in %:  28.299999999999997\n",
      "K=12 Accuracy in %:  28.000000000000004\n",
      "K=13 Accuracy in %:  28.4\n",
      "K=14 Accuracy in %:  28.65\n",
      "K=15 Accuracy in %:  28.000000000000004\n"
     ]
    }
   ],
   "source": [
    "Accuracy_List=[]\n",
    "\n",
    "for k in range (1,16):\n",
    "    \n",
    "    BATCH = batch_KNN(X_small, Y_small, Q_TST_small, k)\n",
    "    BATCH_Acc = class_acc(BATCH,Q_Label_small)\n",
    "    Accuracy_List.append(BATCH_Acc)\n",
    "    print(\"K={} Accuracy in %: \".format(k), BATCH_Acc)"
   ]
  },
  {
   "cell_type": "markdown",
   "id": "a74c970a",
   "metadata": {},
   "source": [
    "**Plot the accuracy data over Multiple K values**"
   ]
  },
  {
   "cell_type": "code",
   "execution_count": 10,
   "id": "39be674c",
   "metadata": {},
   "outputs": [
    {
     "data": {
      "image/png": "[encoded data removed]",
      "text/plain": [
       "<Figure size 432x288 with 1 Axes>"
      ]
     },
     "metadata": {
      "needs_background": "light"
     },
     "output_type": "display_data"
    }
   ],
   "source": [
    "K_values = np.arange(1,len(Accuracy_List)+1)\n",
    "plt.figure()\n",
    "plt.plot(K_values,Accuracy_List,'--')\n",
    "plt.show()"
   ]
  }
 ],
 "metadata": {
  "kernelspec": {
   "display_name": "Python 3 (ipykernel)",
   "language": "python",
   "name": "python3"
  },
  "language_info": {
   "codemirror_mode": {
    "name": "ipython",
    "version": 3
   },
   "file_extension": ".py",
   "mimetype": "text/x-python",
   "name": "python",
   "nbconvert_exporter": "python",
   "pygments_lexer": "ipython3",
   "version": "3.8.11"
  }
 },
 "nbformat": 4,
 "nbformat_minor": 5
}
