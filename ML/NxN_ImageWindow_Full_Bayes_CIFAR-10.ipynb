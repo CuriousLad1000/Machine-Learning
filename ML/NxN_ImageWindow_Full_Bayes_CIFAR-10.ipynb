{
 "cells": [
  {
   "attachments": {
    "image.png": {
     "image/png": "[encoded data removed]"
    }
   },
   "cell_type": "markdown",
   "id": "d18b4de5",
   "metadata": {},
   "source": [
    "### NxN Resolution Image based FULL Bayes\n",
    "\n",
    "This code works exactly same as Full bayes, but the difference is that the Prediction is done over multiple resolution images instead of just 1x1 image. We try to calculate accuracies on 2x2, 4x4, 8x8, 16x16 and 32x32. Though computing for last two is computationally very expensive but the code still works. Finally, we plot the graph to observe the changes in accuracies. \n",
    "\n",
    "After some point the accuracy collapses as we don’t anymore have enough data points to robustly esimate the covariance matrix.\n",
    "\n",
    "![image.png](attachment:image.png)\n",
    "\n",
    "in which x = (mR, mG, mB)<sup>T</sup>\n",
    "is a three-dimensional vector"
   ]
  },
  {
   "cell_type": "code",
   "execution_count": 1,
   "id": "e8c2f1d0",
   "metadata": {},
   "outputs": [
    {
     "name": "stdout",
     "output_type": "stream",
     "text": [
      "All Datasets Loaded\n",
      "X Dataset's Dimensions: (50000, 32, 32, 3)\n",
      "Q Test Dataset's Dimensions: (10000, 32, 32, 3)\n",
      "========================================================================\n"
     ]
    }
   ],
   "source": [
    "import pickle\n",
    "import numpy as np\n",
    "import matplotlib.pyplot as plt\n",
    "from skimage import data\n",
    "from skimage import transform\n",
    "from scipy.stats import norm\n",
    "from scipy.stats import multivariate_normal\n",
    "\n",
    "def unpickle(file):\n",
    "    with open(file, 'rb') as f:\n",
    "        dict = pickle.load(f, encoding=\"latin1\")\n",
    "    return dict\n",
    "\n",
    "datadict_tst = unpickle(r'/cifar-10/test_batch') #Loads all unpickled raw Test data in datadict_tst variable\n",
    "\n",
    "def Load_Data(Data_sets):\n",
    "    LBL=[]\n",
    "    for i in range(1, Data_sets+1):\n",
    "\n",
    "        path='/cifar-10/data_batch_{}'.format(i)\n",
    "        Load = unpickle(r'{}'.format(path))\n",
    "        DAT=Load[\"data\"]           \n",
    "        LBL+=Load[\"labels\"]\n",
    "        if i == 1:           \n",
    "            Da=Load[\"data\"]           \n",
    "        else:\n",
    "            Da=np.vstack([Da, DAT])           \n",
    "#    print(\"Data Shape:\",Da.shape)\n",
    "    LBL = np.array(LBL)\n",
    "#    print(\"Label Shape:\",LBL.shape)\n",
    "    return Da,LBL\n",
    "\n",
    "\n",
    "X1,Y=Load_Data(5) #Load All 5 data sets into X1 and Labels in Y\n",
    "X_Pic = X1.reshape(X1.shape[0], 3, 32, 32).transpose(0,2,3,1).astype(\"float\") #Reshape the 10K images into 3 32 X 32 grids. (for RGBs)\n",
    "                                                                    #Now, transpose this with the given axis.\n",
    "\n",
    "Q1a = datadict_tst[\"data\"]\n",
    "Q_Label = datadict_tst[\"labels\"]\n",
    "\n",
    "Q_Label = np.array(Q_Label)  ## contains class numbers for each image to tell which img belongs to which class\n",
    "Q_TST_Pic = Q1a.reshape(Q1a.shape[0], 3, 32, 32).transpose(0,2,3,1).astype(\"float\") #Reshape the 10K images into 3 32 X 32 grids. (for RGBs)\n",
    "                                                                    #Now, transpose this with the given axis.\n",
    "\n",
    "print('All Datasets Loaded')\n",
    "print(\"X Dataset's Dimensions:\" ,X_Pic.shape)\n",
    "print(\"Q Test Dataset's Dimensions:\" ,Q_TST_Pic.shape)\n",
    "\n",
    "print('========================================================================')\n"
   ]
  },
  {
   "cell_type": "markdown",
   "id": "d2fc8fab",
   "metadata": {},
   "source": [
    "This Block calculates the class accuracy and also performs transformations on our data array. Since data image is 3072 byte long vector, we need to reshape each image to 1x1x3 format. Now, Images will be of only 1 pixel!"
   ]
  },
  {
   "cell_type": "code",
   "execution_count": 2,
   "id": "4218c1b0",
   "metadata": {},
   "outputs": [],
   "source": [
    "#%timeit -r1 -n1\n",
    "\n",
    "\n",
    "def class_acc(pred,gt): #This function will compare the Labels that were predicted using any \n",
    "                        #classifier (such as Random or 1NN) to Original labels that came with dataset (our ground truth)\n",
    "                        #and will give us an accuracy estimate of our program.\n",
    "    err=0            #will store number of mismatches\n",
    "    accuracy=0          #wil be used to calculate accuracy\n",
    "    for i in range(0,len(gt)): #Loop to iterate through all ground truth variables and compare with pred.\n",
    "        if gt[i]!=pred[i]:     #comparing each Pred label to gt label\n",
    "            err=err+1;         #increment the error counter\n",
    "\n",
    "    accuracy=(len(pred)-err)/(len(pred)) #calculate the accuracy ((totalpts-error)/totalpts)*100(for %)\n",
    "    accuracyPercentage=accuracy*100\n",
    "    return accuracyPercentage\n",
    "\n",
    "#==========================================================================================NXN FULL BAYES\n",
    "def cifar10_NxN_color(X,wndw):  #converts the original images in X (50000 ×32 ×32 ×3) to Xp (50000 NXNX3)\n",
    "    resized_x = transform.resize(X, (X.shape[0], wndw, wndw, 3), order=1, mode='constant', anti_aliasing=True).reshape(X.shape[0], wndw*wndw,3)\n",
    "    return resized_x"
   ]
  },
  {
   "cell_type": "markdown",
   "id": "601de355",
   "metadata": {},
   "source": [
    "This block provides a helper function to sort all images according to their classes from 0 to 9. Since we know all classes have perfectly 5000 images, we can use this knowledge while calculating mean and variances in later sections."
   ]
  },
  {
   "cell_type": "code",
   "execution_count": 3,
   "id": "91b5f01f",
   "metadata": {},
   "outputs": [],
   "source": [
    "def class_Sorter(Xs,Ys):\n",
    "    values=[]\n",
    "    print(\"Sorting Resized Images according to their Labels\")\n",
    "    for i in range(Xs.shape[0]): #run as many times as data pts in Xp array \n",
    "        values.append((Xs[i],Ys[i])) #mark all Scaled images with their Labels in single array with Y array (containing labels)      \n",
    "\n",
    "    values = sorted(values,key = lambda x:x[1])\n",
    "    values=np.asarray(values)[:,0]  #Fetch all values without class numbers (since they are already sorted and we know exact count...)\n",
    "    values = np.stack( values, axis=0 )  #Combine arrays of all Images with columns representing R,G,B channels\n",
    "\n",
    "    return values"
   ]
  },
  {
   "cell_type": "markdown",
   "id": "21819347",
   "metadata": {},
   "source": [
    "#### If window = 2\n",
    "\n",
    "This function computes the multivariate normal distribution parameters (mean, covariance, priors) for all 10 classes. **Mean** will be 10 x (window x window x 3) that is 10x12 and **Covariance**: 10 x (window x window x 3) x (window x window x 3) that is 10x12x12 and **priors**: 10x1. "
   ]
  },
  {
   "cell_type": "code",
   "execution_count": 4,
   "id": "011aadb2",
   "metadata": {},
   "outputs": [],
   "source": [
    "#==========================================================================================NXN FULL BAYES\n",
    "\n",
    "def cifar_10_bayes_learn_NXN(X,Y,wndw):\n",
    "\n",
    "    Sorted_values=class_Sorter(X,Y)\n",
    "    \n",
    "    result_Classes_MU2 = np.empty((0,wndw*wndw*3), float)\n",
    "    result_Classes_COVA2 = np.empty((0,wndw*wndw*3,wndw*wndw*3), float)\n",
    "    \n",
    "    batch = 5000  #max. number of sorted images per class.\n",
    "    \n",
    "    for s in range(0,len(Sorted_values),batch):\n",
    "        #print(\"Process Images from\", i, \"to\", batch+i)\n",
    "        Channel_R = Sorted_values[s:batch+s,:,0] #Red channels for all images each image is 2x2, so,4 dims. (5000xwindow_size) R channel\n",
    "        Channel_G = Sorted_values[s:batch+s,:,1] #Red channels for all images each image is 2x2, so,4 dims. (5000xwindow_size) R channel\n",
    "        Channel_B = Sorted_values[s:batch+s,:,2] #Red channels for all images each image is 2x2, so,4 dims. (5000xwindow_size) R channel\n",
    "\n",
    "        meanR = np.mean(Channel_R,axis=0)  #window_size(4 in this case) values of mean\n",
    "        meanG = np.mean(Channel_G,axis=0)\n",
    "        meanB = np.mean(Channel_B,axis=0)\n",
    "        \n",
    "        Channel_R = Channel_R.transpose()  #Transpose to keep images together in row (windowsize X 5000)\n",
    "        Channel_G = Channel_G.transpose()  #Transpose to keep images together in row (windowsize X 5000)\n",
    "        Channel_B = Channel_B.transpose()  #Transpose to keep images together in row (windowsize X 5000)\n",
    "\n",
    "        Channel_matrix = np.array([Channel_R, Channel_G, Channel_B])  #(3, windowsize, 5000)  \n",
    "        Channel_matrix = Channel_matrix.reshape( Channel_matrix.shape[0]*Channel_matrix.shape[1], Channel_matrix.shape[2] )  #(12, 5000)  \n",
    "        CO_Var2 = np.cov(Channel_matrix)   #(12, 12) matrix\n",
    "\n",
    "        #print(\"Covariance2:\",CO_Var2.shape)\n",
    "        #print(CO_Var2)\n",
    "        #print(CO_Var2.shape)\n",
    "        \n",
    "        result_Classes_MU2 = np.append(result_Classes_MU2, np.array([[meanR,meanG,meanB]]))  #mean will be 12x1 per class\n",
    "        result_Classes_COVA2 = np.append(result_Classes_COVA2,[CO_Var2],axis=0)     #covariance will be 12x12 per class\n",
    "\n",
    "    result_Classes_Prior = np.repeat(0.1, 10)  #create array containing 0.1 for 10 classes\n",
    "    result_Classes_MU2=result_Classes_MU2.reshape(10, wndw*wndw*3)\n",
    "\n",
    "    #print(\"MU2's Shape\",result_Classes_MU2.shape)\n",
    "    #print(\"MU2's values\",result_Classes_MU2)\n",
    "    \n",
    "    #print(\"NXN Covariance2 Matrix's Shape\",result_Classes_COVA2.shape)\n",
    "    #print(\"NXN Covariance2 Matrix's values\",result_Classes_COVA2)\n",
    "    \n",
    "    return result_Classes_MU2, result_Classes_COVA2, result_Classes_Prior\n"
   ]
  },
  {
   "attachments": {
    "image.png": {
     "image/png": "[encoded data removed]"
    }
   },
   "cell_type": "markdown",
   "id": "56086d67",
   "metadata": {},
   "source": [
    "This block will calculate the probabilities by implementing the following formula.\n",
    "\n",
    "![image.png](attachment:image.png)"
   ]
  },
  {
   "cell_type": "code",
   "execution_count": 12,
   "id": "7379b99a",
   "metadata": {},
   "outputs": [],
   "source": [
    "def cifar10_classifier_bayes_NXN(tst,mu,cov,p,wndw):\n",
    "    Total_Dr=0.0\n",
    "    all_NR=[]\n",
    "    for i in range(0,10):\n",
    "        tst=np.transpose(tst)\n",
    "        tst=tst.reshape(wndw * wndw * 3)\n",
    "        \n",
    "        Dr_Data=multivariate_normal.pdf(tst, mu[i], cov[i])\n",
    "        #print()\n",
    "        #print(\"Class-\",i)\n",
    "        #print(\"Data's Shape\",Dr_Data.shape)\n",
    "        #print(\"Data\",Dr_Data)\n",
    "        #print(\"------------------------\")\n",
    "        \n",
    "        Data=(Dr_Data)*p[i]\n",
    "        Total_Dr=Total_Dr+Data\n",
    "        all_NR.append(Data)\n",
    "\n",
    "    all_NR=np.asarray(all_NR)\n",
    "    out = np.divide(all_NR, Total_Dr)\n",
    "    Estimated_Img_class=out.argmax(axis=0) \n",
    "    #print(\"Data: \",Data)\n",
    "    #print(\"Total_Dr: \",Total_Dr)\n",
    "    #print(\"all_NR: \",all_NR)\n",
    "    \n",
    "    #print(\"Outs: \",out)\n",
    "    #print(\"Estimated_Img_class: \",Estimated_Img_class)\n",
    "    \n",
    "    return Estimated_Img_class\n",
    "\n",
    "def batch_bayes_NXN(TST,Mew,cov,pri3,wndw): #tst sample scaled img array containing test imgs.#MU, SIG, Prior calculated earlier\n",
    "    bayes_labels=np.array([])\n",
    "    for i in range(TST.shape[0]):\n",
    "        OP=cifar10_classifier_bayes_NXN(TST[i],Mew,cov,pri3,wndw)\n",
    "        bayes_labels = np.append(bayes_labels,OP)\n",
    "        #if wndw > 8:\n",
    "            #print(\"Image:\", i) #Images processed    \n",
    "        #print(\"Full Bayes Predicted Label's Shape is: \",bayes_labels.shape) #verify the shape of predicted labels\n",
    "    return bayes_labels  \n",
    "\n"
   ]
  },
  {
   "cell_type": "markdown",
   "id": "872dfbb9",
   "metadata": {},
   "source": [
    "Function to Test Run at window sizes "
   ]
  },
  {
   "cell_type": "code",
   "execution_count": 6,
   "id": "09222905",
   "metadata": {},
   "outputs": [],
   "source": [
    "def Batch_RUN(WINDOW_SIZE):\n",
    "    \n",
    "    #============================================================================ Resizing Images\n",
    "    #============================================================================ Resizing Images\n",
    "    print(\"#========= Resizing Images to:\",WINDOW_SIZE,\"X\",WINDOW_SIZE)\n",
    "    RESIZE_NXN_DATA=cifar10_NxN_color(X_Pic,WINDOW_SIZE)\n",
    "    RESIZE_NXN_TST=cifar10_NxN_color(Q_TST_Pic,WINDOW_SIZE)\n",
    "\n",
    "    print(\"Resized NXN DATA Batch's Dimensions:\" ,RESIZE_NXN_DATA.shape)\n",
    "    print(\"Resized NXN TEST Batch's Dimensions:\" ,RESIZE_NXN_TST.shape)\n",
    "    print()\n",
    "\n",
    "\n",
    "    #========= Training FULL bayes AT NXN to fetch Mu,Covariance etc..\n",
    "    #========= Training FULL bayes AT NXN to fetch Mu,Covariance etc..\n",
    "\n",
    "    print(\"#========= Training FULL Bayes:\",WINDOW_SIZE,\"X\",WINDOW_SIZE)\n",
    "    MU3,COV2,PRIOR3=cifar_10_bayes_learn_NXN(RESIZE_NXN_DATA,Y,WINDOW_SIZE) #<<Learn\n",
    "\n",
    "    print(WINDOW_SIZE,\"X\",WINDOW_SIZE,\"Bayes MU's Shape\",MU3.shape)\n",
    "    print(WINDOW_SIZE,\"X\",WINDOW_SIZE,\"Bayes Covariance's Shape\",COV2.shape)\n",
    "    print(WINDOW_SIZE,\"X\",WINDOW_SIZE,\"Bayes Prior's Shape\",PRIOR3.shape)\n",
    "    print()\n",
    "\n",
    "\n",
    "    #========= RUNNING FULL BAYES at NXN AND FETCHING ACCURACY\n",
    "\n",
    "    print(\"#========= RUNNING FULL BAYES at\",WINDOW_SIZE,\"X\",WINDOW_SIZE,\"AND FETCHING ACCURACY\")\n",
    "    BATCH_bayes_full_NXN=batch_bayes_NXN(RESIZE_NXN_TST,MU3,COV2,PRIOR3,WINDOW_SIZE) #<< Classify TEST\n",
    "\n",
    "    BATCH_bayes_full_Acc_NXN=class_acc(BATCH_bayes_full_NXN,Q_Label)   #<<Calculate accuracy\n",
    "    print(WINDOW_SIZE,\"X\",WINDOW_SIZE,\"Full Bayes Accuracy in %: \",BATCH_bayes_full_Acc_NXN)\n",
    "    print()\n",
    "    print(\"------------------------------------------------------------------------------------------------------------\")\n",
    "    return BATCH_bayes_full_Acc_NXN\n"
   ]
  },
  {
   "cell_type": "markdown",
   "id": "3fdf79b3",
   "metadata": {},
   "source": [
    "**Test Run at 2x2 window**"
   ]
  },
  {
   "cell_type": "code",
   "execution_count": 13,
   "id": "c7d04446",
   "metadata": {},
   "outputs": [
    {
     "name": "stdout",
     "output_type": "stream",
     "text": [
      "#========= Resizing Images to: 2 X 2\n",
      "Resized NXN DATA Batch's Dimensions: (50000, 4, 3)\n",
      "Resized NXN TEST Batch's Dimensions: (10000, 4, 3)\n",
      "\n",
      "#========= Training FULL Bayes: 2 X 2\n",
      "Sorting Resized Images according to their Labels\n",
      "2 X 2 Bayes MU's Shape (10, 12)\n",
      "2 X 2 Bayes Covariance's Shape (10, 12, 12)\n",
      "2 X 2 Bayes Prior's Shape (10,)\n",
      "\n",
      "#========= RUNNING FULL BAYES at 2 X 2 AND FETCHING ACCURACY\n",
      "2 X 2 Full Bayes Accuracy in %:  31.069999999999997\n",
      "\n",
      "------------------------------------------------------------------------------------------------------------\n"
     ]
    }
   ],
   "source": [
    "WINDOW_SIZE = 2\n",
    "\n",
    "#============================================================================ Resizing Images\n",
    "#============================================================================ Resizing Images\n",
    "print(\"#========= Resizing Images to:\",WINDOW_SIZE,\"X\",WINDOW_SIZE)\n",
    "RESIZE_NXN_DATA=cifar10_NxN_color(X_Pic, WINDOW_SIZE)\n",
    "RESIZE_NXN_TST=cifar10_NxN_color(Q_TST_Pic,WINDOW_SIZE)\n",
    "\n",
    "print(\"Resized NXN DATA Batch's Dimensions:\" ,RESIZE_NXN_DATA.shape)\n",
    "print(\"Resized NXN TEST Batch's Dimensions:\" ,RESIZE_NXN_TST.shape)\n",
    "print()\n",
    "\n",
    "\n",
    "\n",
    "\n",
    "#========= Training FULL bayes AT NXN to fetch Mu,Covariance etc..\n",
    "\n",
    "print(\"#========= Training FULL Bayes:\",WINDOW_SIZE,\"X\",WINDOW_SIZE)\n",
    "\n",
    "MU3,COV2,PRIOR3 = cifar_10_bayes_learn_NXN(RESIZE_NXN_DATA, Y, WINDOW_SIZE)\n",
    "\n",
    "print(WINDOW_SIZE,\"X\",WINDOW_SIZE,\"Bayes MU's Shape\",MU3.shape)\n",
    "print(WINDOW_SIZE,\"X\",WINDOW_SIZE,\"Bayes Covariance's Shape\",COV2.shape)\n",
    "print(WINDOW_SIZE,\"X\",WINDOW_SIZE,\"Bayes Prior's Shape\",PRIOR3.shape)\n",
    "print()\n",
    "\n",
    "\n",
    "\n",
    "#========= RUNNING FULL BAYES at NXN AND FETCHING ACCURACY\n",
    "\n",
    "print(\"#========= RUNNING FULL BAYES at\",WINDOW_SIZE,\"X\",WINDOW_SIZE,\"AND FETCHING ACCURACY\")\n",
    "\n",
    "BATCH_bayes_full_NXN = batch_bayes_NXN(RESIZE_NXN_TST, MU3, COV2, PRIOR3, WINDOW_SIZE) #<< Classify TEST\n",
    "\n",
    "BATCH_bayes_full_Acc_NXN = class_acc(BATCH_bayes_full_NXN,Q_Label)   #<<Calculate accuracy\n",
    "print(WINDOW_SIZE,\"X\",WINDOW_SIZE,\"Full Bayes Accuracy in %: \",BATCH_bayes_full_Acc_NXN)\n",
    "print()\n",
    "print(\"------------------------------------------------------------------------------------------------------------\")"
   ]
  },
  {
   "cell_type": "markdown",
   "id": "35eec1c1",
   "metadata": {},
   "source": [
    "**Run and Get Accuracy**\n",
    "\n",
    "Batch run at multiple window sizes and observe where the accuracy drops."
   ]
  },
  {
   "cell_type": "code",
   "execution_count": 15,
   "id": "13691faf",
   "metadata": {
    "scrolled": false
   },
   "outputs": [
    {
     "name": "stdout",
     "output_type": "stream",
     "text": [
      "0\n",
      "#========= Resizing Images to: 2 X 2\n",
      "Resized NXN DATA Batch's Dimensions: (50000, 4, 3)\n",
      "Resized NXN TEST Batch's Dimensions: (10000, 4, 3)\n",
      "\n",
      "#========= Training FULL Bayes: 2 X 2\n",
      "Sorting Resized Images according to their Labels\n",
      "2 X 2 Bayes MU's Shape (10, 12)\n",
      "2 X 2 Bayes Covariance's Shape (10, 12, 12)\n",
      "2 X 2 Bayes Prior's Shape (10,)\n",
      "\n",
      "#========= RUNNING FULL BAYES at 2 X 2 AND FETCHING ACCURACY\n",
      "2 X 2 Full Bayes Accuracy in %:  31.069999999999997\n",
      "\n",
      "------------------------------------------------------------------------------------------------------------\n",
      "1\n",
      "#========= Resizing Images to: 3 X 3\n",
      "Resized NXN DATA Batch's Dimensions: (50000, 9, 3)\n",
      "Resized NXN TEST Batch's Dimensions: (10000, 9, 3)\n",
      "\n",
      "#========= Training FULL Bayes: 3 X 3\n",
      "Sorting Resized Images according to their Labels\n",
      "3 X 3 Bayes MU's Shape (10, 27)\n",
      "3 X 3 Bayes Covariance's Shape (10, 27, 27)\n",
      "3 X 3 Bayes Prior's Shape (10,)\n",
      "\n",
      "#========= RUNNING FULL BAYES at 3 X 3 AND FETCHING ACCURACY\n",
      "3 X 3 Full Bayes Accuracy in %:  39.89\n",
      "\n",
      "------------------------------------------------------------------------------------------------------------\n",
      "2\n",
      "#========= Resizing Images to: 4 X 4\n",
      "Resized NXN DATA Batch's Dimensions: (50000, 16, 3)\n",
      "Resized NXN TEST Batch's Dimensions: (10000, 16, 3)\n",
      "\n",
      "#========= Training FULL Bayes: 4 X 4\n",
      "Sorting Resized Images according to their Labels\n",
      "4 X 4 Bayes MU's Shape (10, 48)\n",
      "4 X 4 Bayes Covariance's Shape (10, 48, 48)\n",
      "4 X 4 Bayes Prior's Shape (10,)\n",
      "\n",
      "#========= RUNNING FULL BAYES at 4 X 4 AND FETCHING ACCURACY\n"
     ]
    },
    {
     "name": "stderr",
     "output_type": "stream",
     "text": [
      "C:\\Users\\osama\\AppData\\Local\\Temp/ipykernel_19824/2364327110.py:20: RuntimeWarning: invalid value encountered in true_divide\n",
      "  out = np.divide(all_NR, Total_Dr)\n"
     ]
    },
    {
     "name": "stdout",
     "output_type": "stream",
     "text": [
      "4 X 4 Full Bayes Accuracy in %:  40.28\n",
      "\n",
      "------------------------------------------------------------------------------------------------------------\n",
      "3\n",
      "#========= Resizing Images to: 8 X 8\n",
      "Resized NXN DATA Batch's Dimensions: (50000, 64, 3)\n",
      "Resized NXN TEST Batch's Dimensions: (10000, 64, 3)\n",
      "\n",
      "#========= Training FULL Bayes: 8 X 8\n",
      "Sorting Resized Images according to their Labels\n",
      "8 X 8 Bayes MU's Shape (10, 192)\n",
      "8 X 8 Bayes Covariance's Shape (10, 192, 192)\n",
      "8 X 8 Bayes Prior's Shape (10,)\n",
      "\n",
      "#========= RUNNING FULL BAYES at 8 X 8 AND FETCHING ACCURACY\n",
      "8 X 8 Full Bayes Accuracy in %:  35.07\n",
      "\n",
      "------------------------------------------------------------------------------------------------------------\n",
      "[31.069999999999997, 39.89, 40.28, 35.07]\n"
     ]
    },
    {
     "data": {
      "image/png": "[encoded data removed]",
      "text/plain": [
       "<Figure size 432x288 with 1 Axes>"
      ]
     },
     "metadata": {
      "needs_background": "light"
     },
     "output_type": "display_data"
    }
   ],
   "source": [
    "#============================================================================ Resizing Images\n",
    "#============================================================================ Resizing Images\n",
    "Accuracy_List=[]\n",
    "\n",
    "for i in range (0,6):\n",
    "    window = 2**i\n",
    "    Accuracy_List.append(Batch_RUN(window))\n",
    "    \n",
    "print(Accuracy_List)\n",
    "\n",
    "# Plotting the accuracy data over the window sizes\n",
    "ZZ =[1,2,4,8,16,32]\n",
    "plt.figure()\n",
    "plt.plot(ZZ,Accuracy_List,'--')\n",
    "plt.plot(ZZ,Accuracy_List,'*')\n",
    "\n",
    "plt.show()"
   ]
  }
 ],
 "metadata": {
  "kernelspec": {
   "display_name": "Python 3 (ipykernel)",
   "language": "python",
   "name": "python3"
  },
  "language_info": {
   "codemirror_mode": {
    "name": "ipython",
    "version": 3
   },
   "file_extension": ".py",
   "mimetype": "text/x-python",
   "name": "python",
   "nbconvert_exporter": "python",
   "pygments_lexer": "ipython3",
   "version": "3.8.11"
  }
 },
 "nbformat": 4,
 "nbformat_minor": 5
}
