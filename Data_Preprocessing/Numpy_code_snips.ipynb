{
 "cells": [
  {
   "cell_type": "markdown",
   "id": "dbebdd5a",
   "metadata": {},
   "source": [
    "# Numpy Snip codes"
   ]
  },
  {
   "cell_type": "code",
   "execution_count": 3,
   "id": "9e777a66",
   "metadata": {},
   "outputs": [],
   "source": [
    "import numpy as np\n",
    "import matplotlib.pyplot as plt"
   ]
  },
  {
   "cell_type": "markdown",
   "id": "fd975574",
   "metadata": {},
   "source": [
    "#### Snip to create a matrix of N-order polynomial.\n",
    "\n",
    "**eg: n=3 --> x3  x2  x  1]**"
   ]
  },
  {
   "cell_type": "code",
   "execution_count": 4,
   "id": "784a1055",
   "metadata": {},
   "outputs": [
    {
     "data": {
      "text/plain": [
       "array([[  1,   1,   1,   1],\n",
       "       [  8,   4,   2,   1],\n",
       "       [ 27,   9,   3,   1],\n",
       "       [ 64,  16,   4,   1],\n",
       "       [125,  25,   5,   1],\n",
       "       [216,  36,   6,   1],\n",
       "       [343,  49,   7,   1],\n",
       "       [512,  64,   8,   1]])"
      ]
     },
     "execution_count": 4,
     "metadata": {},
     "output_type": "execute_result"
    }
   ],
   "source": [
    "\n",
    "N_pol = 3 # select the order of poly. eg: n=3 --> [x**3  x**2  x  1]\n",
    "\n",
    "xa = np.array([1,2,3,4,5,6,7,8])\n",
    "X_new = np.ones_like(xa)\n",
    "\n",
    "for n_pol in range(1,N_pol+1):\n",
    "    X_new = np.column_stack([X_new, xa**n_pol])\n",
    "    #print(X_new[0])\n",
    "\n",
    "X_new = np.flip(X_new, axis=1) #Now, flip to make higher order axis first.\n",
    "X_new"
   ]
  },
  {
   "cell_type": "markdown",
   "id": "5dfa1369",
   "metadata": {},
   "source": [
    "***Alternative way to sort items Numpy***"
   ]
  },
  {
   "cell_type": "code",
   "execution_count": 5,
   "id": "bd1b156c",
   "metadata": {},
   "outputs": [
    {
     "name": "stdout",
     "output_type": "stream",
     "text": [
      "(0., 6)\n"
     ]
    }
   ],
   "source": [
    "dtype1 = [('distance', float), ('label', int)]\n",
    "zz =  np.array([(0.0, 6), (4438.931515578946, 9), (6273.341294716875, 9), (2704.942328405543, 4), (4627.564046018164, 1)], dtype = dtype1)  # create a structured array\n",
    "zz1=np.sort(zz, order='distance')  \n",
    "print(zz1[0])"
   ]
  },
  {
   "cell_type": "markdown",
   "id": "811643b2",
   "metadata": {},
   "source": [
    "**Element wise Subtraction in numpy**"
   ]
  },
  {
   "cell_type": "code",
   "execution_count": 6,
   "id": "ca75a20b",
   "metadata": {},
   "outputs": [
    {
     "data": {
      "text/plain": [
       "array([[ 0, -1, -2],\n",
       "       [ 1,  0, -1],\n",
       "       [ 2,  1,  0]])"
      ]
     },
     "execution_count": 6,
     "metadata": {},
     "output_type": "execute_result"
    }
   ],
   "source": [
    "a = np.array([1,2,3])\n",
    "b = np.array([1,2,3])\n",
    "\n",
    "c=a[:, np.newaxis]-b\n",
    "c"
   ]
  },
  {
   "cell_type": "markdown",
   "id": "0d8ec92b",
   "metadata": {},
   "source": [
    "#### Sort by Rows and columns\n",
    "\n",
    "INPUT: [[2, 3, 4]\n",
    " [2, 1, 0]\n",
    " [1, 1, 1]]\n",
    "\n",
    "if we use only, Values = Values[Values[:,1].argsort()]\n",
    "\n",
    "OP:  [[2 1 0]\n",
    " [1 1 1]\n",
    " [2 3 4]]\n",
    "\n",
    "\n",
    "if we use, Values = Values[:, Values[**1**, :].argsort()]    **notice the change to 1**\n",
    "\n",
    "OP:  [[4 3 2]\n",
    " [0 1 2]\n",
    " [1 1 1]]\n",
    " \n",
    "if we use, \n",
    "> Values = Values[Values[:,1].argsort()] \n",
    "\n",
    "and then,  \n",
    "> Values = Values[:, Values[0, :].argsort()]    \n",
    "\n",
    "**notice the change to 0 in second statement**\n",
    "\n",
    "OP: [[0 1 2]\n",
    " [1 1 1]\n",
    " [4 3 2]]"
   ]
  },
  {
   "cell_type": "code",
   "execution_count": null,
   "id": "3e148854",
   "metadata": {},
   "outputs": [],
   "source": [
    "def srt(Values):\n",
    "    Values = np.array(Values)\n",
    "    Values = Values[Values[:,1].argsort()]\n",
    "    Values = Values[:, Values[0, :].argsort()]\n",
    "    return Values\n",
    "\n",
    "\n",
    "def srt(Values):\n",
    "    if Values.shape[1] > 1:\n",
    "        Values = Values[Values[:,1].argsort()]\n",
    "        Values = Values[:, Values[0, :].argsort()]\n",
    "    else:\n",
    "        Values = Values[Values[:,0].argsort()]\n",
    "\n",
    "    return Values"
   ]
  }
 ],
 "metadata": {
  "kernelspec": {
   "display_name": "Python 3 (ipykernel)",
   "language": "python",
   "name": "python3"
  },
  "language_info": {
   "codemirror_mode": {
    "name": "ipython",
    "version": 3
   },
   "file_extension": ".py",
   "mimetype": "text/x-python",
   "name": "python",
   "nbconvert_exporter": "python",
   "pygments_lexer": "ipython3",
   "version": "3.8.11"
  }
 },
 "nbformat": 4,
 "nbformat_minor": 5
}
