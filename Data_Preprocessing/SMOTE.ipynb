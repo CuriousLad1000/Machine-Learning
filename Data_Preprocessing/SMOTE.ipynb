{
 "cells": [
  {
   "cell_type": "markdown",
   "metadata": {},
   "source": [
    "<b>In This code, we will see the functionality of SMOTE</b>\n",
    "\n",
    "SMOTE is one of the ways in which we can balance an unbalanced data."
   ]
  },
  {
   "cell_type": "code",
   "execution_count": 1,
   "metadata": {
    "execution": {
     "iopub.execute_input": "2022-07-18T14:27:22.394385Z",
     "iopub.status.busy": "2022-07-18T14:27:22.393430Z",
     "iopub.status.idle": "2022-07-18T14:27:38.818510Z",
     "shell.execute_reply": "2022-07-18T14:27:38.817514Z",
     "shell.execute_reply.started": "2022-07-18T14:27:22.394233Z"
    }
   },
   "outputs": [
    {
     "name": "stdout",
     "output_type": "stream",
     "text": [
      "cuML version 21.10.02\n",
      "Removing value at index 216805\n",
      "Training Dataset's Dimensions: (1281166, 64) class Dim:  (1281166,)\n",
      "\n",
      "Validation Dataset's Dimensions: (48238, 64)\n"
     ]
    }
   ],
   "source": [
    "# RAPIDS cuML kNN model\n",
    "import cudf, cuml, cupy\n",
    "from cuml.neighbors import KNeighborsClassifier as cuKNeighbors\n",
    "from sklearn.metrics import accuracy_score\n",
    "from sklearn.model_selection import train_test_split, KFold\n",
    "from sklearn.model_selection import cross_val_score\n",
    "\n",
    "import pickle\n",
    "import numpy as np\n",
    "import matplotlib.pyplot as plt\n",
    "import pandas as pd\n",
    "\n",
    "print('cuML version',cuml.__version__)\n",
    "\n",
    "from imblearn.over_sampling import SMOTE, ADASYN, BorderlineSMOTE  #Different techniques for SMOTE\n",
    "\n",
    "\n",
    "def unpickle(file):\n",
    "    with open(file, 'rb') as f:\n",
    "        dict = pickle.load(f, encoding=\"latin1\")\n",
    "    return dict\n",
    "\n",
    "data_FULL_training = unpickle(r'../input/trimagi/training_x.dat') #Loads all unpickled raw data in datadict variable\n",
    "Label_FULL_training = unpickle(r'../input/trimagi/training_y.dat') #Loads all unpickled raw data in datadict variable\n",
    "\n",
    "data_Validation = unpickle(r'../input/trimagi/validation_x.dat') #Loads all unpickled raw Test data in datadict_tst variable\n",
    "\n",
    "\n",
    "    \n",
    "def DATA_Processing(data_list,class_list,validation_list):\n",
    "    \n",
    "    #Remove unformatted data\n",
    "    remove_idx=[]\n",
    "    for i in range(1,len(data_list)):\n",
    "        if data_list[i].shape[0]!=8 or data_list[i].shape[1]!=8 or data_list[i].shape[2]!=3:\n",
    "            #print(i)\n",
    "            #print(data_list[i].shape)  \n",
    "            remove_idx.append(i)\n",
    "\n",
    "    for j in range(len(remove_idx)):    \n",
    "        print(\"Removing value at index\",remove_idx[j]) \n",
    "        remove=data_list.pop(remove_idx[j])\n",
    "        remove=class_list.pop(remove_idx[j])\n",
    "\n",
    "\n",
    "    data_list=np.array(data_list) \n",
    "    class_list=np.array(class_list)\n",
    "    validation_list=np.array(validation_list)\n",
    "\n",
    "\n",
    "    #8x8 image FILTERED TO 64 BIT vector\n",
    "    data_list=data_list[:,:,:,0]\n",
    "    data_list = data_list.reshape(data_list.shape[0], data_list.shape[1]*data_list.shape[2])\n",
    "    #print(data_list[0])\n",
    "\n",
    "    validation_list=validation_list[:,:,:,0]\n",
    "    validation_list = validation_list.reshape(validation_list.shape[0], validation_list.shape[1]*validation_list.shape[2])\n",
    "           \n",
    "    return data_list,class_list,validation_list\n",
    "\n",
    "\n",
    "X,Y,VALIDATION_TST = DATA_Processing(data_FULL_training,Label_FULL_training,data_Validation)\n",
    "\n",
    "X = (X - np.min(X)) / (np.max(X) - np.min(X))\n",
    "VALIDATION_TST = (VALIDATION_TST - np.min(VALIDATION_TST)) / (np.max(VALIDATION_TST) - np.min(VALIDATION_TST))\n",
    "\n",
    "\n",
    "###SPLIT THE Training DATA --- Not required when prediction is being done on full dataset.\n",
    "\n",
    "#X, Q_TST, Y, Q_Label = train_test_split(X, Y, test_size=0.05, random_state=0, stratify=Y)\n",
    "#X, Q_TST, Y, Q_Label = train_test_split(X, Y, test_size=10000, train_size=50000, random_state=0, stratify=Y)\n",
    "\n",
    "X = np.array(X).astype(\"float64\")  \n",
    "Y = np.array(Y).astype(\"float64\") \n",
    "\n",
    "#Q_TST = np.array(Q_TST).astype(\"float32\")\n",
    "#Q_Label = np.array(Q_Label).astype(\"float32\")\n",
    "\n",
    "\n",
    "print(\"Training Dataset's Dimensions:\" ,X.shape,\"class Dim: \", Y.shape)\n",
    "#print(\"Test Dataset's Dimensions:\" ,Q_TST.shape,\"class Dim: \", Q_Label.shape)\n",
    "print()\n",
    "\n",
    "print(\"Validation Dataset's Dimensions:\" ,VALIDATION_TST.shape)\n",
    "\n",
    "\n"
   ]
  },
  {
   "cell_type": "markdown",
   "metadata": {},
   "source": [
    "**Before SMOTE**"
   ]
  },
  {
   "cell_type": "code",
   "execution_count": 15,
   "metadata": {
    "execution": {
     "iopub.execute_input": "2022-07-18T14:38:06.005547Z",
     "iopub.status.busy": "2022-07-18T14:38:06.005228Z",
     "iopub.status.idle": "2022-07-18T14:38:06.049611Z",
     "shell.execute_reply": "2022-07-18T14:38:06.048675Z",
     "shell.execute_reply.started": "2022-07-18T14:38:06.005499Z"
    }
   },
   "outputs": [
    {
     "name": "stdout",
     "output_type": "stream",
     "text": [
      "1.0      1300\n",
      "649.0    1300\n",
      "637.0    1300\n",
      "638.0    1300\n",
      "639.0    1300\n",
      "         ... \n",
      "99.0      772\n",
      "46.0      755\n",
      "207.0     754\n",
      "31.0      738\n",
      "42.0      732\n",
      "Length: 1000, dtype: int64\n",
      "\n",
      "Total datapoints before SMOTE 1281166\n"
     ]
    }
   ],
   "source": [
    "#Data is highly unbalanced with class 42 having lowest amount of data\n",
    "df_Y_Full_New = pd.DataFrame(Y)\n",
    "print(df_Y_Full_New.value_counts(sort=True))\n",
    "print()\n",
    "print(\"Total datapoints before SMOTE\" , Y.shape[0])"
   ]
  },
  {
   "cell_type": "markdown",
   "metadata": {},
   "source": [
    "**After SMOTE**"
   ]
  },
  {
   "cell_type": "code",
   "execution_count": 14,
   "metadata": {
    "execution": {
     "iopub.execute_input": "2022-07-18T14:36:47.739472Z",
     "iopub.status.busy": "2022-07-18T14:36:47.738989Z",
     "iopub.status.idle": "2022-07-18T14:36:53.059677Z",
     "shell.execute_reply": "2022-07-18T14:36:53.058570Z",
     "shell.execute_reply.started": "2022-07-18T14:36:47.739438Z"
    }
   },
   "outputs": [
    {
     "name": "stdout",
     "output_type": "stream",
     "text": [
      "1.0       1300\n",
      "672.0     1300\n",
      "659.0     1300\n",
      "660.0     1300\n",
      "661.0     1300\n",
      "          ... \n",
      "339.0     1300\n",
      "340.0     1300\n",
      "341.0     1300\n",
      "342.0     1300\n",
      "1000.0    1300\n",
      "Length: 1000, dtype: int64\n",
      "\n",
      "Total datapoints After SMOTE 1300000\n"
     ]
    }
   ],
   "source": [
    "#Data is now balanced with all 1000 classes having 1300 data points each.\n",
    "\n",
    "smote = SMOTE(sampling_strategy='auto')\n",
    "X_sm, y_sm = smote.fit_resample(X, Y)\n",
    "\n",
    "\n",
    "df_Y_Full_New = pd.DataFrame(y_sm)\n",
    "print(df_Y_Full_New.value_counts(sort=True))\n",
    "print()\n",
    "print(\"Total datapoints After SMOTE\" , y_sm.shape[0])"
   ]
  },
  {
   "cell_type": "code",
   "execution_count": 2,
   "metadata": {
    "execution": {
     "iopub.execute_input": "2022-07-18T14:28:33.657593Z",
     "iopub.status.busy": "2022-07-18T14:28:33.657278Z",
     "iopub.status.idle": "2022-07-18T14:28:38.740629Z",
     "shell.execute_reply": "2022-07-18T14:28:38.739561Z",
     "shell.execute_reply.started": "2022-07-18T14:28:33.657562Z"
    }
   },
   "outputs": [
    {
     "name": "stdout",
     "output_type": "stream",
     "text": [
      "Balanced Dataset's Dimensions: (1300000, 64) class Dim:  (1300000,)\n"
     ]
    }
   ],
   "source": [
    "#Use SMOTE to balance the data then fit just like before.\n",
    "\n",
    "smote = SMOTE(sampling_strategy='auto')\n",
    "X_sm, y_sm = smote.fit_resample(X, Y)\n",
    "\n",
    "print(\"Balanced Dataset's Dimensions:\" ,X_sm.shape,\"class Dim: \", y_sm.shape)"
   ]
  },
  {
   "cell_type": "markdown",
   "metadata": {},
   "source": [
    "**Fit Model**"
   ]
  },
  {
   "cell_type": "code",
   "execution_count": 3,
   "metadata": {
    "execution": {
     "iopub.execute_input": "2022-07-18T14:28:56.639839Z",
     "iopub.status.busy": "2022-07-18T14:28:56.638856Z",
     "iopub.status.idle": "2022-07-18T14:29:08.934870Z",
     "shell.execute_reply": "2022-07-18T14:29:08.933752Z",
     "shell.execute_reply.started": "2022-07-18T14:28:56.639803Z"
    }
   },
   "outputs": [
    {
     "name": "stdout",
     "output_type": "stream",
     "text": [
      "<U4\n",
      "(48238,)\n",
      "['549' '549' '903' ... '194' '772' '903']\n"
     ]
    }
   ],
   "source": [
    "#Now, Fit the KNN model\n",
    "\n",
    "model = cuKNeighbors(n_neighbors=500)    #Run Rapids KNN function on K=500\n",
    "#model.fit(X, Y)\n",
    "model.fit(X_sm, y_sm)                   #Fit the model\n",
    "BATCH = model.predict(VALIDATION_TST)   #Predict\n",
    "BATCH=BATCH.astype('int').astype('<U4') #Convert labels to proper format\n",
    "print(BATCH.dtype)\n",
    "print(BATCH.shape)\n",
    "print(BATCH)"
   ]
  },
  {
   "cell_type": "code",
   "execution_count": 4,
   "metadata": {
    "execution": {
     "iopub.execute_input": "2022-07-18T14:29:14.617954Z",
     "iopub.status.busy": "2022-07-18T14:29:14.617698Z",
     "iopub.status.idle": "2022-07-18T14:29:14.803848Z",
     "shell.execute_reply": "2022-07-18T14:29:14.802861Z",
     "shell.execute_reply.started": "2022-07-18T14:29:14.617925Z"
    }
   },
   "outputs": [
    {
     "name": "stdout",
     "output_type": "stream",
     "text": [
      "(48238,)\n"
     ]
    }
   ],
   "source": [
    "#Save to CSV and Export to zip format.\n",
    "\n",
    "ind = np.arange(1,VALIDATION_TST.shape[0]+1, dtype = np.int32)\n",
    "print(ind.shape)\n",
    "\n",
    "predictions = pd.DataFrame(BATCH)\n",
    "\n",
    "column_names = [\"Id\", \"Class\"]\n",
    "combine_DF=pd.DataFrame(columns = column_names)\n",
    "\n",
    "combine_DF['Id']=ind\n",
    "combine_DF['Class']=BATCH\n",
    "\n",
    "compression_opts = dict(method='zip',archive_name='OSAMA_KNN.csv')\n",
    "combine_DF.to_csv('./OSAMA_KNN_K500_GPU.zip', index=False,compression=compression_opts)\n"
   ]
  }
 ],
 "metadata": {
  "kernelspec": {
   "display_name": "Python 3 (ipykernel)",
   "language": "python",
   "name": "python3"
  },
  "language_info": {
   "codemirror_mode": {
    "name": "ipython",
    "version": 3
   },
   "file_extension": ".py",
   "mimetype": "text/x-python",
   "name": "python",
   "nbconvert_exporter": "python",
   "pygments_lexer": "ipython3",
   "version": "3.8.11"
  }
 },
 "nbformat": 4,
 "nbformat_minor": 4
}
