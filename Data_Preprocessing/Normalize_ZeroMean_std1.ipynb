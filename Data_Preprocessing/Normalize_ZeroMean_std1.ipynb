{
 "cells": [
  {
   "cell_type": "markdown",
   "metadata": {},
   "source": [
    "**This code demonstrates two different kinds of scaling techniques**"
   ]
  },
  {
   "cell_type": "code",
   "execution_count": 36,
   "metadata": {
    "_cell_guid": "b1076dfc-b9ad-4769-8c92-a6c4dae69d19",
    "_uuid": "8f2839f25d086af736a60e9eeb907d3b93b6e0e5",
    "execution": {
     "iopub.execute_input": "2022-04-15T15:17:59.699285Z",
     "iopub.status.busy": "2022-04-15T15:17:59.698477Z",
     "iopub.status.idle": "2022-04-15T15:18:04.051833Z",
     "shell.execute_reply": "2022-04-15T15:18:04.050905Z",
     "shell.execute_reply.started": "2022-04-15T15:17:59.699245Z"
    }
   },
   "outputs": [
    {
     "name": "stdout",
     "output_type": "stream",
     "text": [
      "Removing value at index 216805\n",
      "Training Dataset's Dimensions: (1281166, 64) class Dim:  (1281166,)\n",
      "\n",
      "Validation Dataset's Dimensions: (48238, 64)\n"
     ]
    }
   ],
   "source": [
    "###..... Testing for Normalized_zero_mean_1_std...\n",
    "\n",
    "\n",
    "#========================================== Program for K-NN; Random Classifier; Evaluation\n",
    "# RAPIDS cuML kNN model\n",
    "#import cudf, cuml, cupy\n",
    "#from cuml.neighbors import KNeighborsClassifier as cuKNeighbors\n",
    "from sklearn.metrics import accuracy_score\n",
    "from sklearn.model_selection import cross_val_score\n",
    "#print('cuML version',cuml.__version__)\n",
    "\n",
    "#========================================== Program for K-NN; Random Classifier; Evaluation\n",
    "\n",
    "import pickle\n",
    "import numpy as np\n",
    "import matplotlib.pyplot as plt\n",
    "from sklearn.model_selection import train_test_split, KFold\n",
    "from sklearn.metrics import accuracy_score\n",
    "import pandas as pd\n",
    "from sklearn.metrics import confusion_matrix , classification_report\n",
    "\n",
    "\n",
    "def unpickle(file):\n",
    "    with open(file, 'rb') as f:\n",
    "        dict = pickle.load(f, encoding=\"latin1\")\n",
    "    return dict\n",
    "\n",
    "data_FULL_training = unpickle(r'../input/trimagi/training_x.dat') #Loads all unpickled raw data in datadict variable\n",
    "Label_FULL_training = unpickle(r'../input/trimagi/training_y.dat') #Loads all unpickled raw data in datadict variable\n",
    "\n",
    "data_Validation = unpickle(r'../input/trimagi/validation_x.dat') #Loads all unpickled raw Test data in datadict_tst variable\n",
    "\n",
    "\n",
    "    \n",
    "def DATA_Processing(data_list,class_list,validation_list):\n",
    "    \n",
    "    #Remove unformatted data\n",
    "    remove_idx=[]\n",
    "    for i in range(1,len(data_list)):\n",
    "        if data_list[i].shape[0]!=8 or data_list[i].shape[1]!=8 or data_list[i].shape[2]!=3:\n",
    "            #print(i)\n",
    "            #print(data_list[i].shape)  \n",
    "            remove_idx.append(i)\n",
    "\n",
    "    for j in range(len(remove_idx)):    \n",
    "        print(\"Removing value at index\",remove_idx[j]) \n",
    "        remove=data_list.pop(remove_idx[j])\n",
    "        remove=class_list.pop(remove_idx[j])\n",
    "\n",
    "\n",
    "    data_list=np.array(data_list) \n",
    "    class_list=np.array(class_list)\n",
    "    validation_list=np.array(validation_list)\n",
    "\n",
    "\n",
    "    #8x8 image FILTERED TO 64 BIT vector\n",
    "    data_list=data_list[:,:,:,0]\n",
    "    data_list = data_list.reshape(data_list.shape[0], data_list.shape[1]*data_list.shape[2])\n",
    "    #print(data_list[0])\n",
    "\n",
    "    validation_list=validation_list[:,:,:,0]\n",
    "    validation_list = validation_list.reshape(validation_list.shape[0], validation_list.shape[1]*validation_list.shape[2])\n",
    "           \n",
    "    return data_list,class_list,validation_list\n",
    "\n"
   ]
  },
  {
   "cell_type": "code",
   "execution_count": null,
   "metadata": {},
   "outputs": [],
   "source": []
  },
  {
   "cell_type": "code",
   "execution_count": 32,
   "metadata": {
    "execution": {
     "iopub.execute_input": "2022-04-15T15:09:28.930974Z",
     "iopub.status.busy": "2022-04-15T15:09:28.930567Z",
     "iopub.status.idle": "2022-04-15T15:09:31.756642Z",
     "shell.execute_reply": "2022-04-15T15:09:31.755601Z",
     "shell.execute_reply.started": "2022-04-15T15:09:28.930937Z"
    }
   },
   "outputs": [
    {
     "name": "stdout",
     "output_type": "stream",
     "text": [
      "Train_min_max 0 255\n",
      "Train_mean_std 116.88926867937099 57.33111110263152\n",
      "\n",
      "Test_min_max 0 255\n",
      "Test_mean_std 86.89611082030764 69.59195607208615\n",
      "\n",
      "\n",
      "\n",
      "NORMALIZED.....\n",
      "Train_min_max -2.0388453394897788 2.409001476936136\n",
      "Train_mean_std -1.1009281696554419e-16 1.000000000000003\n",
      "\n",
      "Test_min_max -1.2486516506346963 2.415564939797979\n",
      "Test_mean_std 6.81259619571803e-19 0.9999999999999998\n"
     ]
    }
   ],
   "source": [
    "X_1,Y_1,VALIDATION_TST_1 = DATA_Processing(data_FULL_training,Label_FULL_training,data_Validation)\n",
    "\n",
    "\n",
    "#output[channel] = (input[channel] - mean[channel]) / std[channel]\n",
    "\n",
    "print('Train_min_max', X_1.min(), X_1.max())\n",
    "print('Train_mean_std',X_1.mean(), X_1.std())\n",
    "print()\n",
    "print('Test_min_max', VALIDATION_TST_1.min(), VALIDATION_TST_1.max())\n",
    "print('Test_mean_std',VALIDATION_TST_1.mean(), VALIDATION_TST_1.std())\n",
    "print()\n",
    "print()\n",
    "print()\n",
    "\n",
    "X_1 = (X_1 - np.mean(X_1)) / np.std(X_1)\n",
    "VALIDATION_TST_1 = (VALIDATION_TST_1 - np.mean(VALIDATION_TST_1)) / np.std(VALIDATION_TST_1)\n",
    "\n",
    "print(\"NORMALIZED.....\")\n",
    "print('Train_min_max', X_1.min(), X_1.max())\n",
    "print('Train_mean_std',X_1.mean(), X_1.std())\n",
    "print()\n",
    "print('Test_min_max', VALIDATION_TST_1.min(), VALIDATION_TST_1.max())\n",
    "print('Test_mean_std',VALIDATION_TST_1.mean(), VALIDATION_TST_1.std())\n",
    "\n",
    "\n",
    "\n",
    "\n"
   ]
  },
  {
   "cell_type": "code",
   "execution_count": 33,
   "metadata": {
    "execution": {
     "iopub.execute_input": "2022-04-15T15:11:17.860604Z",
     "iopub.status.busy": "2022-04-15T15:11:17.860366Z",
     "iopub.status.idle": "2022-04-15T15:11:18.502598Z",
     "shell.execute_reply": "2022-04-15T15:11:18.501319Z",
     "shell.execute_reply.started": "2022-04-15T15:11:17.860578Z"
    }
   },
   "outputs": [
    {
     "name": "stdout",
     "output_type": "stream",
     "text": [
      "SCALED.....\n",
      "Train_min_max 0.0 1.0\n",
      "Train_mean_std 0.45838928893870834 0.22482788667698658\n",
      "\n",
      "Test_min_max 0.0 1.0\n",
      "Test_mean_std 0.3407690620404223 0.27290963165523985\n"
     ]
    }
   ],
   "source": [
    "## If we scale agan, it will return back to between 0 and 1 but no more 0 mean and 1 std\n",
    "X_1 = (X_1 - np.min(X_1)) / (np.max(X_1) - np.min(X_1))\n",
    "VALIDATION_TST_1 = (VALIDATION_TST_1 - np.min(VALIDATION_TST_1)) / (np.max(VALIDATION_TST_1) - np.min(VALIDATION_TST_1))\n",
    "\n",
    "\n",
    "print(\"SCALED.....\")\n",
    "print('Train_min_max', X_1.min(), X_1.max())\n",
    "print('Train_mean_std',X_1.mean(), X_1.std())\n",
    "print()\n",
    "print('Test_min_max', VALIDATION_TST_1.min(), VALIDATION_TST_1.max())\n",
    "print('Test_mean_std',VALIDATION_TST_1.mean(), VALIDATION_TST_1.std())\n",
    "\n",
    "\n",
    "\n",
    "\n"
   ]
  },
  {
   "cell_type": "code",
   "execution_count": null,
   "metadata": {},
   "outputs": [],
   "source": []
  }
 ],
 "metadata": {
  "kernelspec": {
   "display_name": "Python 3 (ipykernel)",
   "language": "python",
   "name": "python3"
  },
  "language_info": {
   "codemirror_mode": {
    "name": "ipython",
    "version": 3
   },
   "file_extension": ".py",
   "mimetype": "text/x-python",
   "name": "python",
   "nbconvert_exporter": "python",
   "pygments_lexer": "ipython3",
   "version": "3.8.11"
  }
 },
 "nbformat": 4,
 "nbformat_minor": 4
}
