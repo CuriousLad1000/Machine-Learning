{
 "cells": [
  {
   "cell_type": "markdown",
   "metadata": {},
   "source": [
    "<b>Data Pre-processing including Removal of Duplicate images, SMOTE, Formatting image to 8x8x3</b>\n",
    "\n",
    "In this code we will use the idea of taking horizontal gradient and creating hashes to find out duplicate images and removing them as a part of pre-processing.\n",
    "\n",
    "[Reference Link](https://pyimagesearch.com/2017/11/27/image-hashing-opencv-python/)"
   ]
  },
  {
   "cell_type": "code",
   "execution_count": 1,
   "metadata": {
    "execution": {
     "iopub.execute_input": "2022-07-19T09:51:50.532918Z",
     "iopub.status.busy": "2022-07-19T09:51:50.532448Z",
     "iopub.status.idle": "2022-07-19T09:51:57.186176Z",
     "shell.execute_reply": "2022-07-19T09:51:57.185464Z",
     "shell.execute_reply.started": "2022-07-19T09:51:50.532822Z"
    }
   },
   "outputs": [],
   "source": [
    "#############  Remove Duplicates; Perform SMOTE to balance; Convert back to 8x8x3 images format; Save entire thing             \n",
    "\n",
    "\n",
    "import pickle\n",
    "import numpy as np\n",
    "from imblearn.over_sampling import SMOTE\n",
    "from numpy import load, savez_compressed\n",
    "import gc\n",
    "import cv2\n",
    "\n",
    "\n",
    "def unpickle(file):\n",
    "    with open(file, 'rb') as f:\n",
    "        dict = pickle.load(f, encoding=\"latin1\")\n",
    "    return dict\n",
    "\n",
    "data_FULL_training = unpickle(r'../input/trimagi/training_x.dat') #Loads all unpickled raw data in datadict variable\n",
    "Label_FULL_training = unpickle(r'../input/trimagi/training_y.dat') #Loads all unpickled raw data in datadict variable\n",
    "\n",
    "data_Validation = unpickle(r'../input/trimagi/validation_x.dat') #Loads all unpickled raw Test data in datadict_tst variable\n",
    "\n",
    "\n",
    "\n",
    "\n",
    "def dhash(image, hashSize=8):\n",
    "    # convert the image to grayscale and resize the grayscale image,\n",
    "    # adding a single column (width) so we can compute the horizontal\n",
    "    # gradient\n",
    "    resized = cv2.resize(image, (hashSize + 1, hashSize))\n",
    "    # compute the (relative) horizontal gradient between adjacent\n",
    "    # column pixels\n",
    "    diff = resized[:, 1:] > resized[:, :-1]\n",
    "    # convert the difference image to a hash and return it\n",
    "    return sum([2 ** i for (i, v) in enumerate(diff.flatten()) if v])\n",
    "\n",
    "def Remove_Dupes(X_Data, Y_Data):\n",
    "    cleanedX = []\n",
    "    cleanedY = []\n",
    "    hashes = {}\n",
    "\n",
    "    # loop over our image paths\n",
    "    count=0\n",
    "    for image in X_Data:\n",
    "        h = dhash(image)\n",
    "        # grab all image paths with that hash, add the current image\n",
    "        # path to it, and store the list back in the hashes dictionary\n",
    "        p = hashes.get(h, [])\n",
    "        p.append(count)\n",
    "        hashes[h] = p\n",
    "        count+=1\n",
    "\n",
    "    for i in hashes:\n",
    "        if(len(hashes[i]) == 1):\n",
    "            cleanedX.append(X_Data[hashes[i]])\n",
    "            cleanedY.append(Y_Data[hashes[i]])\n",
    "    cleanedX = np.array(cleanedX)\n",
    "    cleanedY = np.array(cleanedY)\n",
    "    \n",
    "    cleanedY = np.reshape(cleanedY,(cleanedY.shape[0]))\n",
    "    cleanedX = np.reshape(cleanedX,(cleanedX.shape[0],X_Data.shape[1],X_Data.shape[2]))\n",
    "    return cleanedX, cleanedY\n",
    "\n",
    "    \n",
    "def DATA_Processing(data_list,class_list,validation_list,Remove_dupes=0):  #This will create (preprocessed 8x8 imgs)\n",
    "\n",
    "#========Remove unformatted data remove data with more than 8 rows or cols (img should be 8x8) and more than 3 channels\n",
    "    remove_idx=[]\n",
    "    for i in range(1,len(data_list)):\n",
    "        if data_list[i].shape[0]!=8 or data_list[i].shape[1]!=8 or data_list[i].shape[2]!=3:\n",
    "            #print(i)\n",
    "            #print(data_list[i].shape)  \n",
    "            remove_idx.append(i)\n",
    "\n",
    "    for j in range(len(remove_idx)):    \n",
    "        print(\"Removing value at index\",remove_idx[j]) \n",
    "        #print(data_list[])\n",
    "        remove=data_list.pop(remove_idx[j])\n",
    "        remove=class_list.pop(remove_idx[j])\n",
    "\n",
    "\n",
    "    data_list=np.array(data_list) \n",
    "    class_list=np.array(class_list)\n",
    "    validation_list=np.array(validation_list)\n",
    "\n",
    "\n",
    "#    #8x8 image FILTERED TO 64 BIT vector\n",
    "    data_list=data_list[:,:,:,0]\n",
    "    \n",
    "    if Remove_dupes == 1:  \n",
    "        data_list, class_list = Remove_Dupes(data_list, class_list) #Will Remove duplicate images from the dataset.\n",
    "\n",
    "    data_list = data_list.reshape(data_list.shape[0], data_list.shape[1]*data_list.shape[2])\n",
    "\n",
    "#    validation_list=validation_list[:,:,:,0]\n",
    "#    validation_list = validation_list.reshape(validation_list.shape[0], validation_list.shape[1]*validation_list.shape[2])\n",
    "           \n",
    "    return data_list,class_list,validation_list"
   ]
  },
  {
   "cell_type": "markdown",
   "metadata": {},
   "source": [
    "**Process data, Apply SMOTE and Reshape data by adding other two channels back**"
   ]
  },
  {
   "cell_type": "code",
   "execution_count": 3,
   "metadata": {
    "execution": {
     "iopub.execute_input": "2022-07-19T09:53:44.208972Z",
     "iopub.status.busy": "2022-07-19T09:53:44.208076Z",
     "iopub.status.idle": "2022-07-19T09:57:04.664698Z",
     "shell.execute_reply": "2022-07-19T09:57:04.663926Z",
     "shell.execute_reply.started": "2022-07-19T09:53:44.208936Z"
    }
   },
   "outputs": [
    {
     "name": "stdout",
     "output_type": "stream",
     "text": [
      "Training Dataset's Dimensions: (1266339, 64) class Dim:  (1266339,)\n",
      "Training Dataset's Dimensions After SMOTE: (1329152, 64) class Dim:  (1329152,)\n",
      "Training Dataset's Dimensions After Formatting: (1329152, 8, 8, 3) class Dim:  (1329152,)\n",
      "\n"
     ]
    },
    {
     "data": {
      "text/plain": [
       "0"
      ]
     },
     "execution_count": 3,
     "metadata": {},
     "output_type": "execute_result"
    }
   ],
   "source": [
    "#=== will create images of 64bit vector for training and 8x8x3 for val.\n",
    "X_original,Y_original, VAL_original = DATA_Processing(data_FULL_training,Label_FULL_training, data_Validation,1)\n",
    "print(\"Training Dataset's Dimensions:\" ,X_original.shape,\"class Dim: \", Y_original.shape)\n",
    "Y_original = np.array(Y_original).astype(\"uint8\") \n",
    "\n",
    "#=== Perform SMOTE on 64 valued vector\n",
    "smote = SMOTE(sampling_strategy='auto')\n",
    "X_original, Y_original = smote.fit_resample(X_original, Y_original)\n",
    "\n",
    "print(\"Training Dataset's Dimensions After SMOTE:\" ,X_original.shape,\"class Dim: \", Y_original.shape)\n",
    "\n",
    "#=== Rearrange back to image form.\n",
    "X_original = X_original.reshape(X_original.shape[0], 8,8) \n",
    "X_original = np.stack((X_original,)*3, axis=-1)   #8x8x3 Copies one channel to other 2\n",
    "print(\"Training Dataset's Dimensions After Formatting:\" ,X_original.shape,\"class Dim: \", Y_original.shape)\n",
    "print()\n",
    "\n",
    "gc.collect()"
   ]
  },
  {
   "cell_type": "code",
   "execution_count": null,
   "metadata": {},
   "outputs": [],
   "source": []
  },
  {
   "cell_type": "markdown",
   "metadata": {},
   "source": [
    "**Save Compressed Numpy arrays**"
   ]
  },
  {
   "cell_type": "code",
   "execution_count": null,
   "metadata": {},
   "outputs": [],
   "source": [
    "##To Save file\n",
    "savez_compressed('Processed_Y.npz', Y_original) #save all training labels (remove dupes; smote; dtype uint8; ))\n",
    "savez_compressed('Processed_X.npz', X_original)  #save all training images (remove dupes; smote; 8x8x3; dtype uint8; ))\n",
    "savez_compressed('Processed_Val.npz', VAL_original)  #save all Validation images (8x8x3; dtype uint8; ))"
   ]
  }
 ],
 "metadata": {
  "kernelspec": {
   "display_name": "Python 3 (ipykernel)",
   "language": "python",
   "name": "python3"
  },
  "language_info": {
   "codemirror_mode": {
    "name": "ipython",
    "version": 3
   },
   "file_extension": ".py",
   "mimetype": "text/x-python",
   "name": "python",
   "nbconvert_exporter": "python",
   "pygments_lexer": "ipython3",
   "version": "3.8.11"
  }
 },
 "nbformat": 4,
 "nbformat_minor": 4
}
